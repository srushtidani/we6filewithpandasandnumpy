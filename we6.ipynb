{
 "cells": [
  {
   "cell_type": "markdown",
   "metadata": {},
   "source": [
    "# lambda function"
   ]
  },
  {
   "cell_type": "code",
   "execution_count": 6,
   "metadata": {},
   "outputs": [
    {
     "name": "stdout",
     "output_type": "stream",
     "text": [
      "12\n"
     ]
    }
   ],
   "source": [
    "variable_name = 10\n",
    "\n",
    "function_name = lambda x: x * 2\n",
    "\n",
    "print(function_name(6))\n",
    "\n",
    "\n",
    "\n"
   ]
  },
  {
   "cell_type": "markdown",
   "metadata": {},
   "source": [
    "# variable reuse"
   ]
  },
  {
   "cell_type": "code",
   "execution_count": 13,
   "metadata": {},
   "outputs": [],
   "source": [
    "x = 5\n",
    "\n",
    "x = \"Hello\"\n",
    "\n",
    "#In this example, x initially holds an integer but is later assigned a string.​"
   ]
  },
  {
   "cell_type": "markdown",
   "metadata": {},
   "source": [
    "# multiple variable"
   ]
  },
  {
   "cell_type": "code",
   "execution_count": 14,
   "metadata": {},
   "outputs": [],
   "source": [
    "x, y, z = 10, 20, 30\n",
    "\n",
    "#This assigns 10 to x, 20 to y, and 30 to z.​"
   ]
  },
  {
   "cell_type": "code",
   "execution_count": 3,
   "metadata": {},
   "outputs": [
    {
     "data": {
      "text/plain": [
       "10"
      ]
     },
     "execution_count": 3,
     "metadata": {},
     "output_type": "execute_result"
    }
   ],
   "source": [
    "x"
   ]
  },
  {
   "cell_type": "code",
   "execution_count": 4,
   "metadata": {},
   "outputs": [
    {
     "data": {
      "text/plain": [
       "20"
      ]
     },
     "execution_count": 4,
     "metadata": {},
     "output_type": "execute_result"
    }
   ],
   "source": [
    "y"
   ]
  },
  {
   "cell_type": "code",
   "execution_count": 6,
   "metadata": {},
   "outputs": [
    {
     "data": {
      "text/plain": [
       "30"
      ]
     },
     "execution_count": 6,
     "metadata": {},
     "output_type": "execute_result"
    }
   ],
   "source": [
    "z"
   ]
  },
  {
   "cell_type": "markdown",
   "metadata": {},
   "source": [
    "# arithmetic "
   ]
  },
  {
   "cell_type": "code",
   "execution_count": 9,
   "metadata": {},
   "outputs": [
    {
     "name": "stdout",
     "output_type": "stream",
     "text": [
      "0\n"
     ]
    }
   ],
   "source": [
    "x = 10 \n",
    "\n",
    "y = 5 \n",
    "\n",
    "result = x % y \n",
    "\n",
    "print(result)"
   ]
  },
  {
   "cell_type": "code",
   "execution_count": 7,
   "metadata": {},
   "outputs": [
    {
     "name": "stdout",
     "output_type": "stream",
     "text": [
      "24"
     ]
    }
   ],
   "source": [
    "numbers = [1, 2, 3, 4, 5] \n",
    "\n",
    "for num in numbers: \n",
    "\n",
    " if num % 2 == 0: \n",
    "\n",
    "    print(num, end='') "
   ]
  },
  {
   "cell_type": "code",
   "execution_count": 8,
   "metadata": {},
   "outputs": [
    {
     "name": "stdout",
     "output_type": "stream",
     "text": [
      "None\n"
     ]
    }
   ],
   "source": [
    "list1 = [1, 2, 3]\n",
    "\n",
    "list2 = [4, 5]\n",
    "\n",
    "a=list1.extend(list2)\n",
    "print(a)"
   ]
  },
  {
   "cell_type": "markdown",
   "metadata": {},
   "source": [
    "# loops"
   ]
  },
  {
   "cell_type": "code",
   "execution_count": 10,
   "metadata": {},
   "outputs": [
    {
     "name": "stdout",
     "output_type": "stream",
     "text": [
      "0\n",
      "1\n",
      "2\n",
      "3\n",
      "4\n"
     ]
    }
   ],
   "source": [
    "for i in range(5): \n",
    "\n",
    " print(i) "
   ]
  },
  {
   "cell_type": "code",
   "execution_count": 12,
   "metadata": {},
   "outputs": [
    {
     "name": "stdout",
     "output_type": "stream",
     "text": [
      "8\n"
     ]
    }
   ],
   "source": [
    "def add_numbers(a, b=5): \n",
    "\n",
    " return a + b \n",
    "\n",
    "result = add_numbers(3) \n",
    "print(result)"
   ]
  },
  {
   "cell_type": "markdown",
   "metadata": {},
   "source": [
    "# how to ask for help"
   ]
  },
  {
   "cell_type": "code",
   "execution_count": 15,
   "metadata": {},
   "outputs": [
    {
     "name": "stdout",
     "output_type": "stream",
     "text": [
      "Help on method-wrapper:\n",
      "\n",
      "__init__ = <method-wrapper '__init__' of module object>\n",
      "    Initialize self.  See help(type(self)) for accurate signature.\n",
      "\n"
     ]
    }
   ],
   "source": [
    "help(\"__init__\")\n"
   ]
  },
  {
   "cell_type": "markdown",
   "metadata": {},
   "source": [
    "# real life examples "
   ]
  },
  {
   "cell_type": "code",
   "execution_count": 71,
   "metadata": {},
   "outputs": [
    {
     "name": "stdout",
     "output_type": "stream",
     "text": [
      "Average Movie Rating: 9.666666666666666\n",
      "Highest Rated Movie: The Godfather, Lowest Rated Movie: Inception\n"
     ]
    }
   ],
   "source": [
    "# Movie Ratings with Tuples\n",
    "\n",
    "movie_ratings = []\n",
    "\n",
    "def add_movie_rating(movie_title, rating):\n",
    "    movie = (movie_title, rating)\n",
    "    movie_ratings.append(movie)\n",
    "\n",
    "def average_rating():\n",
    "    if not movie_ratings:\n",
    "        return 0\n",
    "    total_rating = sum(rating for _, rating in movie_ratings)\n",
    "    return total_rating / len(movie_ratings)\n",
    "\n",
    "def highest_and_lowest_rated_movies():\n",
    "    if not movie_ratings:\n",
    "        return None, None\n",
    "    highest_rated = max(movie_ratings, key=lambda x: x[1])\n",
    "    lowest_rated = min(movie_ratings, key=lambda x: x[1])\n",
    "    return highest_rated[0], lowest_rated[0]\n",
    "\n",
    "# Example Usage\n",
    "add_movie_rating(\"Inception\", 9.5)\n",
    "add_movie_rating(\"The Shawshank Redemption\", 9.7)\n",
    "add_movie_rating(\"The Godfather\", 9.8)\n",
    "\n",
    "print(\"Average Movie Rating:\", average_rating())\n",
    "\n",
    "highest_rated, lowest_rated = highest_and_lowest_rated_movies()\n",
    "print(f\"Highest Rated Movie: {highest_rated}, Lowest Rated Movie: {lowest_rated}\")"
   ]
  },
  {
   "cell_type": "code",
   "execution_count": 70,
   "metadata": {},
   "outputs": [
    {
     "name": "stdout",
     "output_type": "stream",
     "text": [
      "Enrolled Courses:\n",
      "Alice: ['Math', 'Physics']\n",
      "Bob: ['Chemistry', 'Biology']\n",
      "Charlie: ['Math', 'Computer Science']\n",
      "\n",
      "Students in Math: [(1, 'Alice', ['Math', 'Physics']), (3, 'Charlie', ['Math', 'Computer Science'])]\n"
     ]
    }
   ],
   "source": [
    "# Student Enrollment System with Tuples\n",
    "\n",
    "students_enrollment = []\n",
    "\n",
    "def enroll_student(student_id, name, courses):\n",
    "    student = (student_id, name, courses)\n",
    "    students_enrollment.append(student)\n",
    "\n",
    "def display_enrolled_courses():\n",
    "    print(\"Enrolled Courses:\")\n",
    "    for student in students_enrollment:\n",
    "        _, name, courses = student\n",
    "        print(f\"{name}: {courses}\")\n",
    "\n",
    "def find_students_in_course(course):\n",
    "    return [student for student in students_enrollment if course in student[2]]\n",
    "\n",
    "# Example Usage\n",
    "enroll_student(1, \"Alice\", [\"Math\", \"Physics\"])\n",
    "enroll_student(2, \"Bob\", [\"Chemistry\", \"Biology\"])\n",
    "enroll_student(3, \"Charlie\", [\"Math\", \"Computer Science\"])\n",
    "\n",
    "display_enrolled_courses()\n",
    "\n",
    "course_to_find = \"Math\"\n",
    "students_in_course = find_students_in_course(course_to_find)\n",
    "print(f\"\\nStudents in {course_to_find}: {students_in_course}\")"
   ]
  },
  {
   "cell_type": "code",
   "execution_count": 69,
   "metadata": {},
   "outputs": [
    {
     "name": "stdout",
     "output_type": "stream",
     "text": [
      "Book Catalog:\n",
      "The Great Gatsby by F. Scott Fitzgerald (1925)\n",
      "To Kill a Mockingbird by Harper Lee (1960)\n",
      "1984 by George Orwell (1949)\n",
      "\n",
      "Books by Harper Lee: [('To Kill a Mockingbird', 'Harper Lee', 1960)]\n"
     ]
    }
   ],
   "source": [
    "# Book Catalog with Tuples\n",
    "\n",
    "book_catalog = []\n",
    "\n",
    "def add_book(title, author, publication_year):\n",
    "    book = (title, author, publication_year)\n",
    "    book_catalog.append(book)\n",
    "\n",
    "def display_catalog():\n",
    "    print(\"Book Catalog:\")\n",
    "    for book in book_catalog:\n",
    "        title, author, year = book\n",
    "        print(f\"{title} by {author} ({year})\")\n",
    "\n",
    "def find_books_by_author(author):\n",
    "    return [book for book in book_catalog if book[1] == author]\n",
    "\n",
    "# Example Usage\n",
    "add_book(\"The Great Gatsby\", \"F. Scott Fitzgerald\", 1925)\n",
    "add_book(\"To Kill a Mockingbird\", \"Harper Lee\", 1960)\n",
    "add_book(\"1984\", \"George Orwell\", 1949)\n",
    "\n",
    "display_catalog()\n",
    "\n",
    "author = \"Harper Lee\"\n",
    "books_by_author = find_books_by_author(author)\n",
    "print(f\"\\nBooks by {author}: {books_by_author}\")"
   ]
  },
  {
   "cell_type": "code",
   "execution_count": 68,
   "metadata": {},
   "outputs": [
    {
     "name": "stdout",
     "output_type": "stream",
     "text": [
      "Hottest City: Los Angeles, Coldest City: Chicago\n"
     ]
    }
   ],
   "source": [
    "# Temperature Records with Tuples\n",
    "\n",
    "temperature_records = []\n",
    "\n",
    "def add_temperature_record(city, temperature):\n",
    "    record = (city, temperature)\n",
    "    temperature_records.append(record)\n",
    "\n",
    "def hottest_and_coldest_cities():\n",
    "    if not temperature_records:\n",
    "        return None, None\n",
    "    hottest = max(temperature_records, key=lambda x: x[1])\n",
    "    coldest = min(temperature_records, key=lambda x: x[1])\n",
    "    return hottest[0], coldest[0]\n",
    "\n",
    "# Example Usage\n",
    "add_temperature_record(\"New York\", 78)\n",
    "add_temperature_record(\"Los Angeles\", 92)\n",
    "add_temperature_record(\"Chicago\", 64)\n",
    "\n",
    "hottest, coldest = hottest_and_coldest_cities()\n",
    "print(f\"Hottest City: {hottest}, Coldest City: {coldest}\")"
   ]
  },
  {
   "cell_type": "code",
   "execution_count": 67,
   "metadata": {},
   "outputs": [
    {
     "name": "stdout",
     "output_type": "stream",
     "text": [
      "Alice's Average Grade: 87.66666666666667\n",
      "Bob's Average Grade: 80.0\n",
      "Charlie's Average Grade: 91.66666666666667\n",
      "\n",
      "Student with Highest Average Grade: Charlie\n"
     ]
    }
   ],
   "source": [
    "# Student Information System with Tuples\n",
    "\n",
    "students = []\n",
    "\n",
    "def add_student(student_id, name, grades):\n",
    "    student = (student_id, name, grades)\n",
    "    students.append(student)\n",
    "\n",
    "def average_grade(student):\n",
    "    _, _, grades = student\n",
    "    return sum(grades) / len(grades)\n",
    "\n",
    "def highest_average_student():\n",
    "    if not students:\n",
    "        return None\n",
    "    return max(students, key=average_grade)\n",
    "\n",
    "# Example Usage\n",
    "add_student(1, \"Alice\", [90, 85, 88])\n",
    "add_student(2, \"Bob\", [78, 80, 82])\n",
    "add_student(3, \"Charlie\", [95, 92, 88])\n",
    "\n",
    "for student in students:\n",
    "    student_id, name, grades = student\n",
    "    print(f\"{name}'s Average Grade: {average_grade(student)}\")\n",
    "\n",
    "highest_student = highest_average_student()\n",
    "if highest_student:\n",
    "    print(f\"\\nStudent with Highest Average Grade: {highest_student[1]}\")"
   ]
  },
  {
   "cell_type": "code",
   "execution_count": 23,
   "metadata": {},
   "outputs": [
    {
     "name": "stdout",
     "output_type": "stream",
     "text": [
      "Total Salary: 185000\n",
      "Employee with Highest Salary: (3, 'Charlie', 75000)\n"
     ]
    }
   ],
   "source": [
    "# Employee Management System\n",
    "\n",
    "employees = []\n",
    "\n",
    "def add_employee(employee_id, name, salary):\n",
    "    employee = (employee_id, name, salary)\n",
    "    employees.append(employee)\n",
    "\n",
    "def total_salary():\n",
    "    total = sum(employee[2] for employee in employees)\n",
    "    return total\n",
    "\n",
    "def highest_salary_employee():\n",
    "    if not employees:\n",
    "        return None\n",
    "    return max(employees, key=lambda x: x[2])\n",
    "\n",
    "# Example Usage\n",
    "add_employee(1, \"Alice\", 50000)\n",
    "add_employee(2, \"Bob\", 60000)\n",
    "add_employee(3, \"Charlie\", 75000)\n",
    "\n",
    "print(\"Total Salary:\", total_salary())\n",
    "print(\"Employee with Highest Salary:\", highest_salary_employee())"
   ]
  },
  {
   "cell_type": "code",
   "execution_count": 24,
   "metadata": {},
   "outputs": [
    {
     "name": "stdout",
     "output_type": "stream",
     "text": [
      "Shopping Cart:\n",
      "apple x3\n",
      "banana x2\n",
      "orange x1\n",
      "Total Price: 5.2\n"
     ]
    }
   ],
   "source": [
    "# Shopping Cart with Discounts\n",
    "\n",
    "item_prices = {\"apple\": 1.0, \"banana\": 0.5, \"orange\": 1.2}\n",
    "shopping_cart = []\n",
    "\n",
    "def add_to_cart(item, quantity):\n",
    "    if item in item_prices and quantity > 0:\n",
    "        shopping_cart.append((item, quantity))\n",
    "\n",
    "def calculate_total_price():\n",
    "    total_price = sum(item_prices[item] * quantity for item, quantity in shopping_cart)\n",
    "    # Apply a 10% discount if the total price is greater than 50\n",
    "    if total_price > 50:\n",
    "        total_price *= 0.9\n",
    "    return total_price\n",
    "\n",
    "def display_cart():\n",
    "    print(\"Shopping Cart:\")\n",
    "    for item, quantity in shopping_cart:\n",
    "        print(f\"{item} x{quantity}\")\n",
    "\n",
    "# Example Usage\n",
    "add_to_cart(\"apple\", 3)\n",
    "add_to_cart(\"banana\", 2)\n",
    "add_to_cart(\"orange\", 1)\n",
    "\n",
    "display_cart()\n",
    "print(\"Total Price:\", calculate_total_price())"
   ]
  },
  {
   "cell_type": "code",
   "execution_count": 25,
   "metadata": {},
   "outputs": [
    {
     "name": "stdout",
     "output_type": "stream",
     "text": [
      "Alice's Average Grade: 87.66666666666667\n",
      "Bob's Average Grade: 80.0\n",
      "Charlie's Average Grade: 91.66666666666667\n",
      "Class Average Grade: 86.44444444444446\n"
     ]
    }
   ],
   "source": [
    "# Student Grade Calculator\n",
    "\n",
    "students = [(\"Alice\", [90, 85, 88]), (\"Bob\", [78, 80, 82]), (\"Charlie\", [95, 92, 88])]\n",
    "\n",
    "def student_average_grade(student):\n",
    "    name, grades = student\n",
    "    average = sum(grades) / len(grades)\n",
    "    return name, average\n",
    "\n",
    "def class_average():\n",
    "    if not students:\n",
    "        return 0\n",
    "    total_average = sum(student_average_grade(student)[1] for student in students) / len(students)\n",
    "    return total_average\n",
    "\n",
    "# Example Usage\n",
    "for student in students:\n",
    "    name, average = student_average_grade(student)\n",
    "    print(f\"{name}'s Average Grade: {average}\")\n",
    "\n",
    "print(\"Class Average Grade:\", class_average())"
   ]
  },
  {
   "cell_type": "code",
   "execution_count": 27,
   "metadata": {},
   "outputs": [
    {
     "name": "stdout",
     "output_type": "stream",
     "text": [
      "Simple Password: ]cWS2c/c\n",
      "Medium Password: ,BVG6>b/@pSG\n",
      "Complex Password: G=TI<aVI/fi2<ml$\n"
     ]
    }
   ],
   "source": [
    "# Password Generator\n",
    "\n",
    "import random\n",
    "import string\n",
    "\n",
    "def generate_password(length):\n",
    "    # Define character sets\n",
    "    lower_case = string.ascii_lowercase\n",
    "    upper_case = string.ascii_uppercase\n",
    "    digits = string.digits\n",
    "    special_characters = string.punctuation\n",
    "\n",
    "    # Combine character sets based on complexity\n",
    "    all_characters = lower_case + upper_case + digits + special_characters\n",
    "\n",
    "    # Generate password\n",
    "    password = ''.join(random.choice(all_characters) for _ in range(length))\n",
    "    return password\n",
    "\n",
    "# Example Usage\n",
    "simple_password = generate_password(8)\n",
    "medium_password = generate_password(12)\n",
    "complex_password = generate_password(16)\n",
    "\n",
    "print(\"Simple Password:\", simple_password)\n",
    "print(\"Medium Password:\", medium_password)\n",
    "print(\"Complex Password:\", complex_password)"
   ]
  },
  {
   "cell_type": "code",
   "execution_count": 28,
   "metadata": {},
   "outputs": [
    {
     "name": "stdout",
     "output_type": "stream",
     "text": [
      "Current Inventory:\n",
      "Laptop - Quantity: 10, Price: $800\n",
      "Smartphone - Quantity: 20, Price: $400\n",
      "Headphones - Quantity: 30, Price: $50\n",
      "\n",
      "Updated Inventory:\n",
      "Current Inventory:\n",
      "Laptop - Quantity: 8, Price: $800\n",
      "Smartphone - Quantity: 20, Price: $400\n",
      "Headphones - Quantity: 30, Price: $50\n"
     ]
    }
   ],
   "source": [
    "# Inventory Management System\n",
    "\n",
    "inventory = []\n",
    "\n",
    "def add_product(product_name, quantity, price):\n",
    "    product = {\"name\": product_name, \"quantity\": quantity, \"price\": price}\n",
    "    inventory.append(product)\n",
    "\n",
    "def update_quantity(product_name, new_quantity):\n",
    "    for product in inventory:\n",
    "        if product[\"name\"] == product_name:\n",
    "            product[\"quantity\"] = new_quantity\n",
    "            break\n",
    "\n",
    "def display_inventory():\n",
    "    print(\"Current Inventory:\")\n",
    "    for product in inventory:\n",
    "        print(f\"{product['name']} - Quantity: {product['quantity']}, Price: ${product['price']}\")\n",
    "\n",
    "# Example Usage\n",
    "add_product(\"Laptop\", 10, 800)\n",
    "add_product(\"Smartphone\", 20, 400)\n",
    "add_product(\"Headphones\", 30, 50)\n",
    "\n",
    "display_inventory()\n",
    "\n",
    "update_quantity(\"Laptop\", 8)\n",
    "\n",
    "print(\"\\nUpdated Inventory:\")\n",
    "display_inventory()"
   ]
  },
  {
   "cell_type": "markdown",
   "metadata": {},
   "source": [
    "# how to check data type"
   ]
  },
  {
   "cell_type": "markdown",
   "metadata": {},
   "source": [
    "#integer"
   ]
  },
  {
   "cell_type": "code",
   "execution_count": 18,
   "metadata": {},
   "outputs": [
    {
     "name": "stdout",
     "output_type": "stream",
     "text": [
      "<class 'int'>\n",
      "2329375408656\n"
     ]
    }
   ],
   "source": [
    "a = 10\n",
    "\n",
    "print(type(a))               # To check the data type of a ​\n",
    "\n",
    "print(id(a))                      # To check the id of a ​"
   ]
  },
  {
   "cell_type": "code",
   "execution_count": 21,
   "metadata": {},
   "outputs": [
    {
     "name": "stdout",
     "output_type": "stream",
     "text": [
      "True\n",
      "2329375409680 2329375409680\n",
      "False\n",
      "2329375409680 2329375409680\n"
     ]
    }
   ],
   "source": [
    "a = 42\n",
    "\n",
    "b = 42\n",
    "\n",
    "print(a is b)                    # gives True​​\n",
    "\n",
    "print(id(a), id(b))           # id of both a & b is same  ​\n",
    "\n",
    "x = 257\n",
    "\n",
    "y = 257\n",
    "\n",
    "print(x is y)                    # gives False​\n",
    "\n",
    "print(id(a), id(b))           # id of both a & b is same  ​"
   ]
  },
  {
   "cell_type": "markdown",
   "metadata": {},
   "source": [
    "#float"
   ]
  },
  {
   "cell_type": "code",
   "execution_count": 22,
   "metadata": {},
   "outputs": [
    {
     "name": "stdout",
     "output_type": "stream",
     "text": [
      "<class 'float'>\n",
      "2329450485584\n"
     ]
    }
   ],
   "source": [
    "a = 1.5\n",
    "\n",
    "print(type(a))        # To check the data type of a​\n",
    "\n",
    "print(id(a))            # To check the id of a​"
   ]
  },
  {
   "cell_type": "markdown",
   "metadata": {},
   "source": [
    "#complex"
   ]
  },
  {
   "cell_type": "code",
   "execution_count": 24,
   "metadata": {},
   "outputs": [
    {
     "name": "stdout",
     "output_type": "stream",
     "text": [
      "<class 'complex'>\n"
     ]
    }
   ],
   "source": [
    "z = 3 + 4j                # Where 3 is the real part, and 4 is the imaginary part.​\n",
    "\n",
    "print(type(z))            # To check the data type of a​\n",
    "\n",
    "#To check the id of a      # print(id(z))​"
   ]
  },
  {
   "cell_type": "markdown",
   "metadata": {},
   "source": [
    "# boolean"
   ]
  },
  {
   "cell_type": "code",
   "execution_count": 27,
   "metadata": {},
   "outputs": [
    {
     "name": "stdout",
     "output_type": "stream",
     "text": [
      "True <class 'bool'>\n"
     ]
    }
   ],
   "source": [
    "a = bool(20)\n",
    "\n",
    "print(a, type(a))\n"
   ]
  },
  {
   "cell_type": "code",
   "execution_count": 28,
   "metadata": {},
   "outputs": [
    {
     "name": "stdout",
     "output_type": "stream",
     "text": [
      "False <class 'bool'>\n"
     ]
    }
   ],
   "source": [
    "b = bool(0)\n",
    "\n",
    "print(b, type(b))"
   ]
  },
  {
   "cell_type": "markdown",
   "metadata": {},
   "source": [
    "# list"
   ]
  },
  {
   "cell_type": "code",
   "execution_count": 37,
   "metadata": {},
   "outputs": [],
   "source": [
    "my_list = [1, 2, 3, 'apple', 'banana', True]"
   ]
  },
  {
   "cell_type": "code",
   "execution_count": 38,
   "metadata": {},
   "outputs": [],
   "source": [
    "my_list.append('orange')\n"
   ]
  },
  {
   "cell_type": "code",
   "execution_count": 39,
   "metadata": {},
   "outputs": [
    {
     "data": {
      "text/plain": [
       "[1, 2, 3, 'apple', 'banana', True, 'orange']"
      ]
     },
     "execution_count": 39,
     "metadata": {},
     "output_type": "execute_result"
    }
   ],
   "source": [
    "my_list"
   ]
  },
  {
   "cell_type": "code",
   "execution_count": 40,
   "metadata": {},
   "outputs": [],
   "source": [
    "my_list.remove(2)"
   ]
  },
  {
   "cell_type": "code",
   "execution_count": 41,
   "metadata": {},
   "outputs": [
    {
     "data": {
      "text/plain": [
       "[1, 3, 'apple', 'banana', True, 'orange']"
      ]
     },
     "execution_count": 41,
     "metadata": {},
     "output_type": "execute_result"
    }
   ],
   "source": [
    "my_list"
   ]
  },
  {
   "cell_type": "markdown",
   "metadata": {},
   "source": [
    "# tuple"
   ]
  },
  {
   "cell_type": "code",
   "execution_count": 42,
   "metadata": {},
   "outputs": [],
   "source": [
    "my_tuple = (1, 2, 'apple', 'banana', True)"
   ]
  },
  {
   "cell_type": "code",
   "execution_count": 43,
   "metadata": {},
   "outputs": [],
   "source": [
    "count_apple = my_tuple.count('apple')"
   ]
  },
  {
   "cell_type": "code",
   "execution_count": 44,
   "metadata": {},
   "outputs": [
    {
     "data": {
      "text/plain": [
       "1"
      ]
     },
     "execution_count": 44,
     "metadata": {},
     "output_type": "execute_result"
    }
   ],
   "source": [
    "count_apple"
   ]
  },
  {
   "cell_type": "code",
   "execution_count": 45,
   "metadata": {},
   "outputs": [],
   "source": [
    "index_banana = my_tuple.index('banana')"
   ]
  },
  {
   "cell_type": "markdown",
   "metadata": {},
   "source": [
    "# dictionary"
   ]
  },
  {
   "cell_type": "code",
   "execution_count": 46,
   "metadata": {},
   "outputs": [],
   "source": [
    "my_dict = {'name': 'John', 'age': 25, 'city': 'New York'}"
   ]
  },
  {
   "cell_type": "code",
   "execution_count": 47,
   "metadata": {},
   "outputs": [],
   "source": [
    "age = my_dict.get('age', 0)"
   ]
  },
  {
   "cell_type": "code",
   "execution_count": 48,
   "metadata": {},
   "outputs": [
    {
     "data": {
      "text/plain": [
       "25"
      ]
     },
     "execution_count": 48,
     "metadata": {},
     "output_type": "execute_result"
    }
   ],
   "source": [
    "age"
   ]
  },
  {
   "cell_type": "code",
   "execution_count": 49,
   "metadata": {},
   "outputs": [],
   "source": [
    "removed_age = my_dict.pop('age')"
   ]
  },
  {
   "cell_type": "code",
   "execution_count": 50,
   "metadata": {},
   "outputs": [
    {
     "data": {
      "text/plain": [
       "25"
      ]
     },
     "execution_count": 50,
     "metadata": {},
     "output_type": "execute_result"
    }
   ],
   "source": [
    "removed_age"
   ]
  },
  {
   "cell_type": "markdown",
   "metadata": {},
   "source": [
    "# set"
   ]
  },
  {
   "cell_type": "code",
   "execution_count": 51,
   "metadata": {},
   "outputs": [],
   "source": [
    "my_set = {1, 2, 'apple', 'banana', True}"
   ]
  },
  {
   "cell_type": "code",
   "execution_count": 52,
   "metadata": {},
   "outputs": [],
   "source": [
    "my_set.add('orange')"
   ]
  },
  {
   "cell_type": "code",
   "execution_count": 53,
   "metadata": {},
   "outputs": [
    {
     "data": {
      "text/plain": [
       "{1, 2, 'apple', 'banana', 'orange'}"
      ]
     },
     "execution_count": 53,
     "metadata": {},
     "output_type": "execute_result"
    }
   ],
   "source": [
    "my_set"
   ]
  },
  {
   "cell_type": "code",
   "execution_count": 54,
   "metadata": {},
   "outputs": [],
   "source": [
    "my_set.remove(2)"
   ]
  },
  {
   "cell_type": "code",
   "execution_count": 55,
   "metadata": {},
   "outputs": [
    {
     "data": {
      "text/plain": [
       "{1, 'apple', 'banana', 'orange'}"
      ]
     },
     "execution_count": 55,
     "metadata": {},
     "output_type": "execute_result"
    }
   ],
   "source": [
    "my_set"
   ]
  },
  {
   "cell_type": "markdown",
   "metadata": {},
   "source": [
    "# strings"
   ]
  },
  {
   "cell_type": "code",
   "execution_count": 57,
   "metadata": {},
   "outputs": [],
   "source": [
    "#Strings can be declared using either single quotes (‘ ’) or double quotes (“ ”)."
   ]
  },
  {
   "cell_type": "code",
   "execution_count": 62,
   "metadata": {},
   "outputs": [
    {
     "data": {
      "text/plain": [
       "'John Doe'"
      ]
     },
     "execution_count": 62,
     "metadata": {},
     "output_type": "execute_result"
    }
   ],
   "source": [
    "#String Concatenation\n",
    "\n",
    "first_name = \"John\"\n",
    "\n",
    "last_name = \"Doe\"\n",
    "\n",
    "full_name = first_name + \" \" + last_name  \n",
    "\n",
    "full_name"
   ]
  },
  {
   "cell_type": "code",
   "execution_count": 66,
   "metadata": {},
   "outputs": [
    {
     "data": {
      "text/plain": [
       "6"
      ]
     },
     "execution_count": 66,
     "metadata": {},
     "output_type": "execute_result"
    }
   ],
   "source": [
    "#String Length\n",
    "\n",
    "text = \"Python\"\n",
    "\n",
    "length = len(text) \n",
    "length"
   ]
  },
  {
   "cell_type": "markdown",
   "metadata": {},
   "source": [
    "# slicing"
   ]
  },
  {
   "cell_type": "code",
   "execution_count": 72,
   "metadata": {},
   "outputs": [
    {
     "data": {
      "text/plain": [
       "(2, 3, 4)"
      ]
     },
     "execution_count": 72,
     "metadata": {},
     "output_type": "execute_result"
    }
   ],
   "source": [
    "my_tuple = (1, 2, 3, 4, 5) \n",
    "\n",
    "result = my_tuple[1:4] \n",
    "result"
   ]
  },
  {
   "cell_type": "code",
   "execution_count": 73,
   "metadata": {},
   "outputs": [
    {
     "data": {
      "text/plain": [
       "(1, 2, 3, 4, 5, 6)"
      ]
     },
     "execution_count": 73,
     "metadata": {},
     "output_type": "execute_result"
    }
   ],
   "source": [
    "tuple1 = (1, 2, 3) \n",
    "\n",
    "tuple2 = (4, 5, 6) \n",
    "\n",
    "result = tuple1 + tuple2 \n",
    "result"
   ]
  },
  {
   "cell_type": "code",
   "execution_count": 74,
   "metadata": {},
   "outputs": [
    {
     "name": "stdout",
     "output_type": "stream",
     "text": [
      "[2, 3]\n"
     ]
    }
   ],
   "source": [
    "my_list = [1, 2, 3, 4]\n",
    "\n",
    "result = my_list[1:3]\n",
    "\n",
    "print(result)"
   ]
  },
  {
   "cell_type": "code",
   "execution_count": 76,
   "metadata": {},
   "outputs": [
    {
     "data": {
      "text/plain": [
       "[1, 2, 6, 3, 4, 5]"
      ]
     },
     "execution_count": 76,
     "metadata": {},
     "output_type": "execute_result"
    }
   ],
   "source": [
    "my_list = [1, 2, 3, 4, 5] \n",
    "\n",
    "my_list.insert(2, 6) \n",
    "my_list"
   ]
  },
  {
   "cell_type": "code",
   "execution_count": 77,
   "metadata": {},
   "outputs": [
    {
     "data": {
      "text/plain": [
       "2"
      ]
     },
     "execution_count": 77,
     "metadata": {},
     "output_type": "execute_result"
    }
   ],
   "source": [
    "my_dict = {'a': 1, 'b': 2,'c': 3} \n",
    "\n",
    "result = my_dict.get('b', 0) \n",
    "result"
   ]
  },
  {
   "cell_type": "code",
   "execution_count": 78,
   "metadata": {},
   "outputs": [
    {
     "data": {
      "text/plain": [
       "{3, 4}"
      ]
     },
     "execution_count": 78,
     "metadata": {},
     "output_type": "execute_result"
    }
   ],
   "source": [
    "set1 = {1, 2, 3, 4} \n",
    "\n",
    "set2 = {3, 4, 5, 6} \n",
    "\n",
    "result = set1.intersection(set2) \n",
    "result"
   ]
  },
  {
   "cell_type": "code",
   "execution_count": 80,
   "metadata": {},
   "outputs": [
    {
     "data": {
      "text/plain": [
       "dict_keys(['a', 'b', 'c'])"
      ]
     },
     "execution_count": 80,
     "metadata": {},
     "output_type": "execute_result"
    }
   ],
   "source": [
    "my_dict ={'a': 1, 'b': 2, 'c': 3} \n",
    "\n",
    "keys = my_dict.keys() \n",
    "keys"
   ]
  },
  {
   "cell_type": "code",
   "execution_count": 82,
   "metadata": {},
   "outputs": [
    {
     "data": {
      "text/plain": [
       "dict_keys(['a', 'b', 'c'])"
      ]
     },
     "execution_count": 82,
     "metadata": {},
     "output_type": "execute_result"
    }
   ],
   "source": [
    "my_dict = {'a': 1, 'b': 2, 'c': 3} \n",
    "\n",
    "keys = my_dict.keys() \n",
    "keys"
   ]
  },
  {
   "cell_type": "code",
   "execution_count": 84,
   "metadata": {},
   "outputs": [
    {
     "data": {
      "text/plain": [
       "{1, 2, 3, 4, 5, 6}"
      ]
     },
     "execution_count": 84,
     "metadata": {},
     "output_type": "execute_result"
    }
   ],
   "source": [
    "my_set = {1, 2, 3, 4} \n",
    "\n",
    "my_set.update({3, 4, 5, 6}) \n",
    "my_set"
   ]
  },
  {
   "cell_type": "markdown",
   "metadata": {},
   "source": [
    "# PANDAS\n"
   ]
  },
  {
   "cell_type": "code",
   "execution_count": 1,
   "metadata": {},
   "outputs": [],
   "source": [
    "import pandas as pd"
   ]
  },
  {
   "cell_type": "code",
   "execution_count": 56,
   "metadata": {},
   "outputs": [
    {
     "data": {
      "text/html": [
       "<div>\n",
       "<style scoped>\n",
       "    .dataframe tbody tr th:only-of-type {\n",
       "        vertical-align: middle;\n",
       "    }\n",
       "\n",
       "    .dataframe tbody tr th {\n",
       "        vertical-align: top;\n",
       "    }\n",
       "\n",
       "    .dataframe thead th {\n",
       "        text-align: right;\n",
       "    }\n",
       "</style>\n",
       "<table border=\"1\" class=\"dataframe\">\n",
       "  <thead>\n",
       "    <tr style=\"text-align: right;\">\n",
       "      <th></th>\n",
       "      <th>title</th>\n",
       "      <th>genre</th>\n",
       "      <th>language</th>\n",
       "      <th>imdb_score</th>\n",
       "      <th>premiere</th>\n",
       "      <th>runtime</th>\n",
       "      <th>year</th>\n",
       "    </tr>\n",
       "  </thead>\n",
       "  <tbody>\n",
       "    <tr>\n",
       "      <th>0</th>\n",
       "      <td>Notes for My Son</td>\n",
       "      <td>Drama</td>\n",
       "      <td>Spanish</td>\n",
       "      <td>6.3</td>\n",
       "      <td>11/24/2020</td>\n",
       "      <td>83</td>\n",
       "      <td>2020</td>\n",
       "    </tr>\n",
       "    <tr>\n",
       "      <th>1</th>\n",
       "      <td>To Each, Her Own</td>\n",
       "      <td>Romantic comedy</td>\n",
       "      <td>French</td>\n",
       "      <td>5.3</td>\n",
       "      <td>6/24/2018</td>\n",
       "      <td>95</td>\n",
       "      <td>2018</td>\n",
       "    </tr>\n",
       "    <tr>\n",
       "      <th>2</th>\n",
       "      <td>The Lovebirds</td>\n",
       "      <td>Romantic comedy</td>\n",
       "      <td>English</td>\n",
       "      <td>6.1</td>\n",
       "      <td>5/22/2020</td>\n",
       "      <td>87</td>\n",
       "      <td>2020</td>\n",
       "    </tr>\n",
       "    <tr>\n",
       "      <th>3</th>\n",
       "      <td>The Perfection</td>\n",
       "      <td>Horror-thriller</td>\n",
       "      <td>English</td>\n",
       "      <td>6.1</td>\n",
       "      <td>5/24/2019</td>\n",
       "      <td>90</td>\n",
       "      <td>2019</td>\n",
       "    </tr>\n",
       "    <tr>\n",
       "      <th>4</th>\n",
       "      <td>Happy Anniversary</td>\n",
       "      <td>Romantic comedy</td>\n",
       "      <td>English</td>\n",
       "      <td>5.8</td>\n",
       "      <td>3/30/2018</td>\n",
       "      <td>78</td>\n",
       "      <td>2018</td>\n",
       "    </tr>\n",
       "    <tr>\n",
       "      <th>...</th>\n",
       "      <td>...</td>\n",
       "      <td>...</td>\n",
       "      <td>...</td>\n",
       "      <td>...</td>\n",
       "      <td>...</td>\n",
       "      <td>...</td>\n",
       "      <td>...</td>\n",
       "    </tr>\n",
       "    <tr>\n",
       "      <th>578</th>\n",
       "      <td>Rolling Thunder Revue: A bob Dylan Story by Ma...</td>\n",
       "      <td>Documentary</td>\n",
       "      <td>English</td>\n",
       "      <td>7.6</td>\n",
       "      <td>6/12/2019</td>\n",
       "      <td>144</td>\n",
       "      <td>2019</td>\n",
       "    </tr>\n",
       "    <tr>\n",
       "      <th>579</th>\n",
       "      <td>Freaks: You're One of Us</td>\n",
       "      <td>Supernatural drama</td>\n",
       "      <td>German</td>\n",
       "      <td>5.4</td>\n",
       "      <td>9/2/2020</td>\n",
       "      <td>92</td>\n",
       "      <td>2020</td>\n",
       "    </tr>\n",
       "    <tr>\n",
       "      <th>580</th>\n",
       "      <td>Squared Love</td>\n",
       "      <td>Romantic comedy</td>\n",
       "      <td>Polish</td>\n",
       "      <td>5.0</td>\n",
       "      <td>2/11/2021</td>\n",
       "      <td>102</td>\n",
       "      <td>2021</td>\n",
       "    </tr>\n",
       "    <tr>\n",
       "      <th>581</th>\n",
       "      <td>My Own Man</td>\n",
       "      <td>Documentary</td>\n",
       "      <td>English</td>\n",
       "      <td>6.4</td>\n",
       "      <td>12/13/2014</td>\n",
       "      <td>81</td>\n",
       "      <td>2014</td>\n",
       "    </tr>\n",
       "    <tr>\n",
       "      <th>582</th>\n",
       "      <td>Biggie: I Got a Story to Tell</td>\n",
       "      <td>Documentary</td>\n",
       "      <td>English</td>\n",
       "      <td>6.9</td>\n",
       "      <td>3/1/2021</td>\n",
       "      <td>97</td>\n",
       "      <td>2021</td>\n",
       "    </tr>\n",
       "  </tbody>\n",
       "</table>\n",
       "<p>583 rows × 7 columns</p>\n",
       "</div>"
      ],
      "text/plain": [
       "                                                 title               genre  \\\n",
       "0                                     Notes for My Son               Drama   \n",
       "1                                     To Each, Her Own     Romantic comedy   \n",
       "2                                        The Lovebirds     Romantic comedy   \n",
       "3                                       The Perfection     Horror-thriller   \n",
       "4                                    Happy Anniversary     Romantic comedy   \n",
       "..                                                 ...                 ...   \n",
       "578  Rolling Thunder Revue: A bob Dylan Story by Ma...         Documentary   \n",
       "579                           Freaks: You're One of Us  Supernatural drama   \n",
       "580                                       Squared Love     Romantic comedy   \n",
       "581                                         My Own Man         Documentary   \n",
       "582                      Biggie: I Got a Story to Tell         Documentary   \n",
       "\n",
       "    language  imdb_score    premiere  runtime  year  \n",
       "0    Spanish         6.3  11/24/2020       83  2020  \n",
       "1     French         5.3   6/24/2018       95  2018  \n",
       "2    English         6.1   5/22/2020       87  2020  \n",
       "3    English         6.1   5/24/2019       90  2019  \n",
       "4    English         5.8   3/30/2018       78  2018  \n",
       "..       ...         ...         ...      ...   ...  \n",
       "578  English         7.6   6/12/2019      144  2019  \n",
       "579   German         5.4    9/2/2020       92  2020  \n",
       "580   Polish         5.0   2/11/2021      102  2021  \n",
       "581  English         6.4  12/13/2014       81  2014  \n",
       "582  English         6.9    3/1/2021       97  2021  \n",
       "\n",
       "[583 rows x 7 columns]"
      ]
     },
     "execution_count": 56,
     "metadata": {},
     "output_type": "execute_result"
    }
   ],
   "source": [
    "df = pd.read_csv(\"C:\\\\Users\\Dell\\\\Downloads\\\\archive (2)\\\\netflix.csv\")\n",
    "df"
   ]
  },
  {
   "cell_type": "code",
   "execution_count": 110,
   "metadata": {},
   "outputs": [
    {
     "data": {
      "text/plain": [
       "0                        Spanish\n",
       "1                         French\n",
       "2                        English\n",
       "3                     Portuguese\n",
       "4               English/Mandarin\n",
       "5                English/Spanish\n",
       "6                         German\n",
       "7                        Italian\n",
       "8                         Korean\n",
       "9                   Thia/English\n",
       "10                         Hindi\n",
       "11                         Malay\n",
       "12                      Japanese\n",
       "13                       Marathi\n",
       "14                       Swedish\n",
       "15                    Indonesian\n",
       "16                         Dutch\n",
       "17                      Filipino\n",
       "18               Spanish/English\n",
       "19    English/Taiwanese/Mandarin\n",
       "20                      Georgian\n",
       "21                 English/Hindi\n",
       "22               English/Russian\n",
       "23               Spanish/Catalan\n",
       "24      English/Ukranian/Russian\n",
       "25                         Tamil\n",
       "26                     Norwegian\n",
       "27                       Turkish\n",
       "28                English/Arabic\n",
       "29                        Polish\n",
       "30               English/Swedish\n",
       "31                       Bengali\n",
       "32              English/Japanese\n",
       "33                          Thai\n",
       "34                English/Korean\n",
       "35          Khmer/English/French\n",
       "36                  English/Akan\n",
       "37                Spanish/Basque\n",
       "dtype: object"
      ]
     },
     "execution_count": 110,
     "metadata": {},
     "output_type": "execute_result"
    }
   ],
   "source": [
    "pd.Series(df['language'].unique())"
   ]
  },
  {
   "cell_type": "code",
   "execution_count": 68,
   "metadata": {},
   "outputs": [
    {
     "data": {
      "text/plain": [
       "0                   Drama\n",
       "1         Romantic comedy\n",
       "2         Romantic comedy\n",
       "3         Horror-thriller\n",
       "4         Romantic comedy\n",
       "              ...        \n",
       "578           Documentary\n",
       "579    Supernatural drama\n",
       "580       Romantic comedy\n",
       "581           Documentary\n",
       "582           Documentary\n",
       "Name: genre, Length: 583, dtype: object"
      ]
     },
     "execution_count": 68,
     "metadata": {},
     "output_type": "execute_result"
    }
   ],
   "source": [
    "new_column = df['genre']\n",
    "new_column\n",
    "\n"
   ]
  },
  {
   "cell_type": "code",
   "execution_count": null,
   "metadata": {},
   "outputs": [],
   "source": []
  },
  {
   "cell_type": "code",
   "execution_count": 88,
   "metadata": {},
   "outputs": [
    {
     "data": {
      "text/plain": [
       "genre\n",
       "Documentary                    159\n",
       "Drama                           77\n",
       "Comedy                          49\n",
       "Romantic comedy                 39\n",
       "Thriller                        33\n",
       "                              ... \n",
       "Political thriller               1\n",
       "Fantasy                          1\n",
       "Romantic comedy-drama            1\n",
       "Animation/Musical/Adventure      1\n",
       "Supernatural drama               1\n",
       "Name: count, Length: 114, dtype: int64"
      ]
     },
     "execution_count": 88,
     "metadata": {},
     "output_type": "execute_result"
    }
   ],
   "source": [
    "df['genre'].value_counts()"
   ]
  },
  {
   "cell_type": "code",
   "execution_count": 94,
   "metadata": {},
   "outputs": [
    {
     "data": {
      "text/plain": [
       "title          Two Catalonias\n",
       "genre             Documentary\n",
       "language      Spanish/Catalan\n",
       "imdb_score                6.4\n",
       "premiere            9/28/2018\n",
       "runtime                   116\n",
       "year                     2018\n",
       "Name: 209, dtype: object"
      ]
     },
     "execution_count": 94,
     "metadata": {},
     "output_type": "execute_result"
    }
   ],
   "source": [
    "df.loc[df['runtime'].max()]"
   ]
  },
  {
   "cell_type": "code",
   "execution_count": 79,
   "metadata": {},
   "outputs": [
    {
     "data": {
      "text/plain": [
       "159"
      ]
     },
     "execution_count": 79,
     "metadata": {},
     "output_type": "execute_result"
    }
   ],
   "source": [
    "#gives ans in int only\n",
    "documentary_count =(df['genre'] == 'Documentary').sum()\n",
    "documentary_count"
   ]
  },
  {
   "cell_type": "code",
   "execution_count": 96,
   "metadata": {},
   "outputs": [
    {
     "data": {
      "text/html": [
       "<div>\n",
       "<style scoped>\n",
       "    .dataframe tbody tr th:only-of-type {\n",
       "        vertical-align: middle;\n",
       "    }\n",
       "\n",
       "    .dataframe tbody tr th {\n",
       "        vertical-align: top;\n",
       "    }\n",
       "\n",
       "    .dataframe thead th {\n",
       "        text-align: right;\n",
       "    }\n",
       "</style>\n",
       "<table border=\"1\" class=\"dataframe\">\n",
       "  <thead>\n",
       "    <tr style=\"text-align: right;\">\n",
       "      <th></th>\n",
       "      <th>title</th>\n",
       "      <th>genre</th>\n",
       "      <th>language</th>\n",
       "      <th>imdb_score</th>\n",
       "      <th>premiere</th>\n",
       "      <th>runtime</th>\n",
       "      <th>year</th>\n",
       "    </tr>\n",
       "  </thead>\n",
       "  <tbody>\n",
       "    <tr>\n",
       "      <th>186</th>\n",
       "      <td>The Irishman</td>\n",
       "      <td>Crime drama</td>\n",
       "      <td>English</td>\n",
       "      <td>7.8</td>\n",
       "      <td>11/27/2019</td>\n",
       "      <td>209</td>\n",
       "      <td>2019</td>\n",
       "    </tr>\n",
       "    <tr>\n",
       "      <th>472</th>\n",
       "      <td>Da 5 Bloods</td>\n",
       "      <td>War drama</td>\n",
       "      <td>English</td>\n",
       "      <td>6.5</td>\n",
       "      <td>6/12/2020</td>\n",
       "      <td>155</td>\n",
       "      <td>2020</td>\n",
       "    </tr>\n",
       "    <tr>\n",
       "      <th>72</th>\n",
       "      <td>Springsteen on Broadway</td>\n",
       "      <td>One-man show</td>\n",
       "      <td>English</td>\n",
       "      <td>8.5</td>\n",
       "      <td>12/16/2018</td>\n",
       "      <td>153</td>\n",
       "      <td>2018</td>\n",
       "    </tr>\n",
       "    <tr>\n",
       "      <th>500</th>\n",
       "      <td>Citation</td>\n",
       "      <td>Drama</td>\n",
       "      <td>English</td>\n",
       "      <td>6.2</td>\n",
       "      <td>11/6/2020</td>\n",
       "      <td>151</td>\n",
       "      <td>2020</td>\n",
       "    </tr>\n",
       "    <tr>\n",
       "      <th>93</th>\n",
       "      <td>The Forest of Love</td>\n",
       "      <td>Drama</td>\n",
       "      <td>Japanese</td>\n",
       "      <td>6.3</td>\n",
       "      <td>10/11/2019</td>\n",
       "      <td>151</td>\n",
       "      <td>2019</td>\n",
       "    </tr>\n",
       "    <tr>\n",
       "      <th>...</th>\n",
       "      <td>...</td>\n",
       "      <td>...</td>\n",
       "      <td>...</td>\n",
       "      <td>...</td>\n",
       "      <td>...</td>\n",
       "      <td>...</td>\n",
       "      <td>...</td>\n",
       "    </tr>\n",
       "    <tr>\n",
       "      <th>430</th>\n",
       "      <td>Zion</td>\n",
       "      <td>Documentary</td>\n",
       "      <td>English</td>\n",
       "      <td>7.2</td>\n",
       "      <td>8/10/2018</td>\n",
       "      <td>11</td>\n",
       "      <td>2018</td>\n",
       "    </tr>\n",
       "    <tr>\n",
       "      <th>436</th>\n",
       "      <td>American Factory: A Conversation with the Obamas</td>\n",
       "      <td>Aftershow / Interview</td>\n",
       "      <td>English</td>\n",
       "      <td>5.2</td>\n",
       "      <td>8/21/2019</td>\n",
       "      <td>10</td>\n",
       "      <td>2019</td>\n",
       "    </tr>\n",
       "    <tr>\n",
       "      <th>95</th>\n",
       "      <td>Canvas</td>\n",
       "      <td>Animation / Short</td>\n",
       "      <td>English</td>\n",
       "      <td>6.5</td>\n",
       "      <td>12/11/2020</td>\n",
       "      <td>9</td>\n",
       "      <td>2020</td>\n",
       "    </tr>\n",
       "    <tr>\n",
       "      <th>362</th>\n",
       "      <td>Cops and Robbers</td>\n",
       "      <td>Animation / Short</td>\n",
       "      <td>English</td>\n",
       "      <td>6.9</td>\n",
       "      <td>12/28/2020</td>\n",
       "      <td>7</td>\n",
       "      <td>2020</td>\n",
       "    </tr>\n",
       "    <tr>\n",
       "      <th>540</th>\n",
       "      <td>Sol Levante</td>\n",
       "      <td>Anime / Short</td>\n",
       "      <td>English</td>\n",
       "      <td>4.7</td>\n",
       "      <td>4/2/2020</td>\n",
       "      <td>4</td>\n",
       "      <td>2020</td>\n",
       "    </tr>\n",
       "  </tbody>\n",
       "</table>\n",
       "<p>583 rows × 7 columns</p>\n",
       "</div>"
      ],
      "text/plain": [
       "                                                 title                  genre  \\\n",
       "186                                       The Irishman            Crime drama   \n",
       "472                                        Da 5 Bloods              War drama   \n",
       "72                             Springsteen on Broadway           One-man show   \n",
       "500                                           Citation                  Drama   \n",
       "93                                  The Forest of Love                  Drama   \n",
       "..                                                 ...                    ...   \n",
       "430                                              Zion             Documentary   \n",
       "436  American Factory: A Conversation with the Obamas   Aftershow / Interview   \n",
       "95                                             Canvas       Animation / Short   \n",
       "362                                   Cops and Robbers      Animation / Short   \n",
       "540                                        Sol Levante          Anime / Short   \n",
       "\n",
       "     language  imdb_score    premiere  runtime  year  \n",
       "186   English         7.8  11/27/2019      209  2019  \n",
       "472   English         6.5   6/12/2020      155  2020  \n",
       "72    English         8.5  12/16/2018      153  2018  \n",
       "500   English         6.2   11/6/2020      151  2020  \n",
       "93   Japanese         6.3  10/11/2019      151  2019  \n",
       "..        ...         ...         ...      ...   ...  \n",
       "430   English         7.2   8/10/2018       11  2018  \n",
       "436   English         5.2   8/21/2019       10  2019  \n",
       "95    English         6.5  12/11/2020        9  2020  \n",
       "362   English         6.9  12/28/2020        7  2020  \n",
       "540   English         4.7    4/2/2020        4  2020  \n",
       "\n",
       "[583 rows x 7 columns]"
      ]
     },
     "execution_count": 96,
     "metadata": {},
     "output_type": "execute_result"
    }
   ],
   "source": [
    "# highest runtime \n",
    "runtime=df.sort_values(by='runtime', ascending=False)\n",
    "runtime\n"
   ]
  },
  {
   "cell_type": "code",
   "execution_count": 101,
   "metadata": {},
   "outputs": [
    {
     "data": {
      "text/html": [
       "<div>\n",
       "<style scoped>\n",
       "    .dataframe tbody tr th:only-of-type {\n",
       "        vertical-align: middle;\n",
       "    }\n",
       "\n",
       "    .dataframe tbody tr th {\n",
       "        vertical-align: top;\n",
       "    }\n",
       "\n",
       "    .dataframe thead th {\n",
       "        text-align: right;\n",
       "    }\n",
       "</style>\n",
       "<table border=\"1\" class=\"dataframe\">\n",
       "  <thead>\n",
       "    <tr style=\"text-align: right;\">\n",
       "      <th></th>\n",
       "      <th>title</th>\n",
       "      <th>genre</th>\n",
       "      <th>language</th>\n",
       "      <th>imdb_score</th>\n",
       "      <th>premiere</th>\n",
       "      <th>runtime</th>\n",
       "      <th>year</th>\n",
       "    </tr>\n",
       "  </thead>\n",
       "  <tbody>\n",
       "    <tr>\n",
       "      <th>409</th>\n",
       "      <td>Enter the Anime</td>\n",
       "      <td>Documentary</td>\n",
       "      <td>English/Japanese</td>\n",
       "      <td>2.5</td>\n",
       "      <td>8/5/2019</td>\n",
       "      <td>58</td>\n",
       "      <td>2019</td>\n",
       "    </tr>\n",
       "  </tbody>\n",
       "</table>\n",
       "</div>"
      ],
      "text/plain": [
       "               title        genre          language  imdb_score  premiere  \\\n",
       "409  Enter the Anime  Documentary  English/Japanese         2.5  8/5/2019   \n",
       "\n",
       "     runtime  year  \n",
       "409       58  2019  "
      ]
     },
     "execution_count": 101,
     "metadata": {},
     "output_type": "execute_result"
    }
   ],
   "source": [
    "# least imdbscore\n",
    "imdbscore= df.sort_values(by=\"imdb_score\",ascending=True).head(1)\n",
    "imdbscore"
   ]
  },
  {
   "cell_type": "code",
   "execution_count": 81,
   "metadata": {},
   "outputs": [
    {
     "data": {
      "text/html": [
       "<div>\n",
       "<style scoped>\n",
       "    .dataframe tbody tr th:only-of-type {\n",
       "        vertical-align: middle;\n",
       "    }\n",
       "\n",
       "    .dataframe tbody tr th {\n",
       "        vertical-align: top;\n",
       "    }\n",
       "\n",
       "    .dataframe thead th {\n",
       "        text-align: right;\n",
       "    }\n",
       "</style>\n",
       "<table border=\"1\" class=\"dataframe\">\n",
       "  <thead>\n",
       "    <tr style=\"text-align: right;\">\n",
       "      <th></th>\n",
       "      <th>title</th>\n",
       "      <th>genre</th>\n",
       "      <th>language</th>\n",
       "      <th>imdb_score</th>\n",
       "      <th>premiere</th>\n",
       "      <th>runtime</th>\n",
       "      <th>year</th>\n",
       "    </tr>\n",
       "  </thead>\n",
       "  <tbody>\n",
       "    <tr>\n",
       "      <th>5</th>\n",
       "      <td>Why Did You Kill Me?</td>\n",
       "      <td>Documentary</td>\n",
       "      <td>English</td>\n",
       "      <td>5.6</td>\n",
       "      <td>4/14/2021</td>\n",
       "      <td>83</td>\n",
       "      <td>2021</td>\n",
       "    </tr>\n",
       "    <tr>\n",
       "      <th>7</th>\n",
       "      <td>Brene Brown: The Call to Courage</td>\n",
       "      <td>Documentary</td>\n",
       "      <td>English</td>\n",
       "      <td>7.7</td>\n",
       "      <td>4/19/2019</td>\n",
       "      <td>76</td>\n",
       "      <td>2019</td>\n",
       "    </tr>\n",
       "    <tr>\n",
       "      <th>11</th>\n",
       "      <td>El Pepe: A Supreme Life</td>\n",
       "      <td>Documentary</td>\n",
       "      <td>Spanish</td>\n",
       "      <td>7.1</td>\n",
       "      <td>12/27/2019</td>\n",
       "      <td>73</td>\n",
       "      <td>2019</td>\n",
       "    </tr>\n",
       "    <tr>\n",
       "      <th>12</th>\n",
       "      <td>Sky Ladder: The Art of Cai Guo-Qiang</td>\n",
       "      <td>Documentary</td>\n",
       "      <td>English/Mandarin</td>\n",
       "      <td>7.3</td>\n",
       "      <td>10/14/2016</td>\n",
       "      <td>79</td>\n",
       "      <td>2016</td>\n",
       "    </tr>\n",
       "    <tr>\n",
       "      <th>13</th>\n",
       "      <td>Out of Many, One</td>\n",
       "      <td>Documentary</td>\n",
       "      <td>English</td>\n",
       "      <td>5.7</td>\n",
       "      <td>12/12/2018</td>\n",
       "      <td>34</td>\n",
       "      <td>2018</td>\n",
       "    </tr>\n",
       "    <tr>\n",
       "      <th>...</th>\n",
       "      <td>...</td>\n",
       "      <td>...</td>\n",
       "      <td>...</td>\n",
       "      <td>...</td>\n",
       "      <td>...</td>\n",
       "      <td>...</td>\n",
       "      <td>...</td>\n",
       "    </tr>\n",
       "    <tr>\n",
       "      <th>569</th>\n",
       "      <td>American Murder: The Family Next Door</td>\n",
       "      <td>Documentary</td>\n",
       "      <td>English</td>\n",
       "      <td>7.2</td>\n",
       "      <td>9/30/2020</td>\n",
       "      <td>82</td>\n",
       "      <td>2020</td>\n",
       "    </tr>\n",
       "    <tr>\n",
       "      <th>575</th>\n",
       "      <td>Long Shot</td>\n",
       "      <td>Documentary</td>\n",
       "      <td>English</td>\n",
       "      <td>7.4</td>\n",
       "      <td>9/29/2017</td>\n",
       "      <td>40</td>\n",
       "      <td>2017</td>\n",
       "    </tr>\n",
       "    <tr>\n",
       "      <th>578</th>\n",
       "      <td>Rolling Thunder Revue: A bob Dylan Story by Ma...</td>\n",
       "      <td>Documentary</td>\n",
       "      <td>English</td>\n",
       "      <td>7.6</td>\n",
       "      <td>6/12/2019</td>\n",
       "      <td>144</td>\n",
       "      <td>2019</td>\n",
       "    </tr>\n",
       "    <tr>\n",
       "      <th>581</th>\n",
       "      <td>My Own Man</td>\n",
       "      <td>Documentary</td>\n",
       "      <td>English</td>\n",
       "      <td>6.4</td>\n",
       "      <td>12/13/2014</td>\n",
       "      <td>81</td>\n",
       "      <td>2014</td>\n",
       "    </tr>\n",
       "    <tr>\n",
       "      <th>582</th>\n",
       "      <td>Biggie: I Got a Story to Tell</td>\n",
       "      <td>Documentary</td>\n",
       "      <td>English</td>\n",
       "      <td>6.9</td>\n",
       "      <td>3/1/2021</td>\n",
       "      <td>97</td>\n",
       "      <td>2021</td>\n",
       "    </tr>\n",
       "  </tbody>\n",
       "</table>\n",
       "<p>159 rows × 7 columns</p>\n",
       "</div>"
      ],
      "text/plain": [
       "                                                 title        genre  \\\n",
       "5                                 Why Did You Kill Me?  Documentary   \n",
       "7                     Brene Brown: The Call to Courage  Documentary   \n",
       "11                             El Pepe: A Supreme Life  Documentary   \n",
       "12                Sky Ladder: The Art of Cai Guo-Qiang  Documentary   \n",
       "13                                    Out of Many, One  Documentary   \n",
       "..                                                 ...          ...   \n",
       "569              American Murder: The Family Next Door  Documentary   \n",
       "575                                          Long Shot  Documentary   \n",
       "578  Rolling Thunder Revue: A bob Dylan Story by Ma...  Documentary   \n",
       "581                                         My Own Man  Documentary   \n",
       "582                      Biggie: I Got a Story to Tell  Documentary   \n",
       "\n",
       "             language  imdb_score    premiere  runtime  year  \n",
       "5             English         5.6   4/14/2021       83  2021  \n",
       "7             English         7.7   4/19/2019       76  2019  \n",
       "11            Spanish         7.1  12/27/2019       73  2019  \n",
       "12   English/Mandarin         7.3  10/14/2016       79  2016  \n",
       "13            English         5.7  12/12/2018       34  2018  \n",
       "..                ...         ...         ...      ...   ...  \n",
       "569           English         7.2   9/30/2020       82  2020  \n",
       "575           English         7.4   9/29/2017       40  2017  \n",
       "578           English         7.6   6/12/2019      144  2019  \n",
       "581           English         6.4  12/13/2014       81  2014  \n",
       "582           English         6.9    3/1/2021       97  2021  \n",
       "\n",
       "[159 rows x 7 columns]"
      ]
     },
     "execution_count": 81,
     "metadata": {},
     "output_type": "execute_result"
    }
   ],
   "source": [
    "# provides dataframe\n",
    "Documentary= df.loc[(df.genre == 'Documentary')]\n",
    "Documentary"
   ]
  },
  {
   "cell_type": "code",
   "execution_count": 8,
   "metadata": {},
   "outputs": [
    {
     "data": {
      "text/html": [
       "<div>\n",
       "<style scoped>\n",
       "    .dataframe tbody tr th:only-of-type {\n",
       "        vertical-align: middle;\n",
       "    }\n",
       "\n",
       "    .dataframe tbody tr th {\n",
       "        vertical-align: top;\n",
       "    }\n",
       "\n",
       "    .dataframe thead th {\n",
       "        text-align: right;\n",
       "    }\n",
       "</style>\n",
       "<table border=\"1\" class=\"dataframe\">\n",
       "  <thead>\n",
       "    <tr style=\"text-align: right;\">\n",
       "      <th></th>\n",
       "      <th>title</th>\n",
       "      <th>genre</th>\n",
       "      <th>language</th>\n",
       "      <th>imdb_score</th>\n",
       "      <th>premiere</th>\n",
       "      <th>runtime</th>\n",
       "      <th>year</th>\n",
       "    </tr>\n",
       "  </thead>\n",
       "  <tbody>\n",
       "    <tr>\n",
       "      <th>0</th>\n",
       "      <td>Notes for My Son</td>\n",
       "      <td>Drama</td>\n",
       "      <td>Spanish</td>\n",
       "      <td>6.3</td>\n",
       "      <td>11/24/2020</td>\n",
       "      <td>83</td>\n",
       "      <td>2020</td>\n",
       "    </tr>\n",
       "    <tr>\n",
       "      <th>1</th>\n",
       "      <td>To Each, Her Own</td>\n",
       "      <td>Romantic comedy</td>\n",
       "      <td>French</td>\n",
       "      <td>5.3</td>\n",
       "      <td>6/24/2018</td>\n",
       "      <td>95</td>\n",
       "      <td>2018</td>\n",
       "    </tr>\n",
       "    <tr>\n",
       "      <th>2</th>\n",
       "      <td>The Lovebirds</td>\n",
       "      <td>Romantic comedy</td>\n",
       "      <td>English</td>\n",
       "      <td>6.1</td>\n",
       "      <td>5/22/2020</td>\n",
       "      <td>87</td>\n",
       "      <td>2020</td>\n",
       "    </tr>\n",
       "    <tr>\n",
       "      <th>3</th>\n",
       "      <td>The Perfection</td>\n",
       "      <td>Horror-thriller</td>\n",
       "      <td>English</td>\n",
       "      <td>6.1</td>\n",
       "      <td>5/24/2019</td>\n",
       "      <td>90</td>\n",
       "      <td>2019</td>\n",
       "    </tr>\n",
       "    <tr>\n",
       "      <th>4</th>\n",
       "      <td>Happy Anniversary</td>\n",
       "      <td>Romantic comedy</td>\n",
       "      <td>English</td>\n",
       "      <td>5.8</td>\n",
       "      <td>3/30/2018</td>\n",
       "      <td>78</td>\n",
       "      <td>2018</td>\n",
       "    </tr>\n",
       "  </tbody>\n",
       "</table>\n",
       "</div>"
      ],
      "text/plain": [
       "               title            genre language  imdb_score    premiere  \\\n",
       "0   Notes for My Son            Drama  Spanish         6.3  11/24/2020   \n",
       "1   To Each, Her Own  Romantic comedy   French         5.3   6/24/2018   \n",
       "2      The Lovebirds  Romantic comedy  English         6.1   5/22/2020   \n",
       "3     The Perfection  Horror-thriller  English         6.1   5/24/2019   \n",
       "4  Happy Anniversary  Romantic comedy  English         5.8   3/30/2018   \n",
       "\n",
       "   runtime  year  \n",
       "0       83  2020  \n",
       "1       95  2018  \n",
       "2       87  2020  \n",
       "3       90  2019  \n",
       "4       78  2018  "
      ]
     },
     "execution_count": 8,
     "metadata": {},
     "output_type": "execute_result"
    }
   ],
   "source": [
    "# extracts top 5\n",
    "top5= df.head(5)\n",
    "top5"
   ]
  },
  {
   "cell_type": "code",
   "execution_count": 9,
   "metadata": {},
   "outputs": [
    {
     "data": {
      "text/html": [
       "<div>\n",
       "<style scoped>\n",
       "    .dataframe tbody tr th:only-of-type {\n",
       "        vertical-align: middle;\n",
       "    }\n",
       "\n",
       "    .dataframe tbody tr th {\n",
       "        vertical-align: top;\n",
       "    }\n",
       "\n",
       "    .dataframe thead th {\n",
       "        text-align: right;\n",
       "    }\n",
       "</style>\n",
       "<table border=\"1\" class=\"dataframe\">\n",
       "  <thead>\n",
       "    <tr style=\"text-align: right;\">\n",
       "      <th></th>\n",
       "      <th>title</th>\n",
       "      <th>genre</th>\n",
       "      <th>language</th>\n",
       "      <th>imdb_score</th>\n",
       "      <th>premiere</th>\n",
       "      <th>runtime</th>\n",
       "      <th>year</th>\n",
       "    </tr>\n",
       "  </thead>\n",
       "  <tbody>\n",
       "    <tr>\n",
       "      <th>578</th>\n",
       "      <td>Rolling Thunder Revue: A bob Dylan Story by Ma...</td>\n",
       "      <td>Documentary</td>\n",
       "      <td>English</td>\n",
       "      <td>7.6</td>\n",
       "      <td>6/12/2019</td>\n",
       "      <td>144</td>\n",
       "      <td>2019</td>\n",
       "    </tr>\n",
       "    <tr>\n",
       "      <th>579</th>\n",
       "      <td>Freaks: You're One of Us</td>\n",
       "      <td>Supernatural drama</td>\n",
       "      <td>German</td>\n",
       "      <td>5.4</td>\n",
       "      <td>9/2/2020</td>\n",
       "      <td>92</td>\n",
       "      <td>2020</td>\n",
       "    </tr>\n",
       "    <tr>\n",
       "      <th>580</th>\n",
       "      <td>Squared Love</td>\n",
       "      <td>Romantic comedy</td>\n",
       "      <td>Polish</td>\n",
       "      <td>5.0</td>\n",
       "      <td>2/11/2021</td>\n",
       "      <td>102</td>\n",
       "      <td>2021</td>\n",
       "    </tr>\n",
       "    <tr>\n",
       "      <th>581</th>\n",
       "      <td>My Own Man</td>\n",
       "      <td>Documentary</td>\n",
       "      <td>English</td>\n",
       "      <td>6.4</td>\n",
       "      <td>12/13/2014</td>\n",
       "      <td>81</td>\n",
       "      <td>2014</td>\n",
       "    </tr>\n",
       "    <tr>\n",
       "      <th>582</th>\n",
       "      <td>Biggie: I Got a Story to Tell</td>\n",
       "      <td>Documentary</td>\n",
       "      <td>English</td>\n",
       "      <td>6.9</td>\n",
       "      <td>3/1/2021</td>\n",
       "      <td>97</td>\n",
       "      <td>2021</td>\n",
       "    </tr>\n",
       "  </tbody>\n",
       "</table>\n",
       "</div>"
      ],
      "text/plain": [
       "                                                 title               genre  \\\n",
       "578  Rolling Thunder Revue: A bob Dylan Story by Ma...         Documentary   \n",
       "579                           Freaks: You're One of Us  Supernatural drama   \n",
       "580                                       Squared Love     Romantic comedy   \n",
       "581                                         My Own Man         Documentary   \n",
       "582                      Biggie: I Got a Story to Tell         Documentary   \n",
       "\n",
       "    language  imdb_score    premiere  runtime  year  \n",
       "578  English         7.6   6/12/2019      144  2019  \n",
       "579   German         5.4    9/2/2020       92  2020  \n",
       "580   Polish         5.0   2/11/2021      102  2021  \n",
       "581  English         6.4  12/13/2014       81  2014  \n",
       "582  English         6.9    3/1/2021       97  2021  "
      ]
     },
     "execution_count": 9,
     "metadata": {},
     "output_type": "execute_result"
    }
   ],
   "source": [
    "# extracts least 5\n",
    "least5= df.tail(5)\n",
    "least5"
   ]
  },
  {
   "cell_type": "code",
   "execution_count": 11,
   "metadata": {},
   "outputs": [
    {
     "name": "stdout",
     "output_type": "stream",
     "text": [
      "<class 'pandas.core.frame.DataFrame'>\n",
      "RangeIndex: 583 entries, 0 to 582\n",
      "Data columns (total 7 columns):\n",
      " #   Column      Non-Null Count  Dtype  \n",
      "---  ------      --------------  -----  \n",
      " 0   title       583 non-null    object \n",
      " 1   genre       583 non-null    object \n",
      " 2   language    583 non-null    object \n",
      " 3   imdb_score  583 non-null    float64\n",
      " 4   premiere    583 non-null    object \n",
      " 5   runtime     583 non-null    int64  \n",
      " 6   year        583 non-null    int64  \n",
      "dtypes: float64(1), int64(2), object(4)\n",
      "memory usage: 32.0+ KB\n"
     ]
    }
   ],
   "source": [
    "\n",
    "# gives overall info about file \n",
    "info= df.info()\n",
    "info"
   ]
  },
  {
   "cell_type": "code",
   "execution_count": 13,
   "metadata": {},
   "outputs": [
    {
     "data": {
      "text/html": [
       "<div>\n",
       "<style scoped>\n",
       "    .dataframe tbody tr th:only-of-type {\n",
       "        vertical-align: middle;\n",
       "    }\n",
       "\n",
       "    .dataframe tbody tr th {\n",
       "        vertical-align: top;\n",
       "    }\n",
       "\n",
       "    .dataframe thead th {\n",
       "        text-align: right;\n",
       "    }\n",
       "</style>\n",
       "<table border=\"1\" class=\"dataframe\">\n",
       "  <thead>\n",
       "    <tr style=\"text-align: right;\">\n",
       "      <th></th>\n",
       "      <th>imdb_score</th>\n",
       "      <th>runtime</th>\n",
       "      <th>year</th>\n",
       "    </tr>\n",
       "  </thead>\n",
       "  <tbody>\n",
       "    <tr>\n",
       "      <th>count</th>\n",
       "      <td>583.000000</td>\n",
       "      <td>583.000000</td>\n",
       "      <td>583.000000</td>\n",
       "    </tr>\n",
       "    <tr>\n",
       "      <th>mean</th>\n",
       "      <td>6.275129</td>\n",
       "      <td>93.490566</td>\n",
       "      <td>2018.934820</td>\n",
       "    </tr>\n",
       "    <tr>\n",
       "      <th>std</th>\n",
       "      <td>0.976678</td>\n",
       "      <td>27.706665</td>\n",
       "      <td>1.474598</td>\n",
       "    </tr>\n",
       "    <tr>\n",
       "      <th>min</th>\n",
       "      <td>2.500000</td>\n",
       "      <td>4.000000</td>\n",
       "      <td>2014.000000</td>\n",
       "    </tr>\n",
       "    <tr>\n",
       "      <th>25%</th>\n",
       "      <td>5.700000</td>\n",
       "      <td>86.000000</td>\n",
       "      <td>2018.000000</td>\n",
       "    </tr>\n",
       "    <tr>\n",
       "      <th>50%</th>\n",
       "      <td>6.400000</td>\n",
       "      <td>97.000000</td>\n",
       "      <td>2019.000000</td>\n",
       "    </tr>\n",
       "    <tr>\n",
       "      <th>75%</th>\n",
       "      <td>7.000000</td>\n",
       "      <td>107.500000</td>\n",
       "      <td>2020.000000</td>\n",
       "    </tr>\n",
       "    <tr>\n",
       "      <th>max</th>\n",
       "      <td>9.000000</td>\n",
       "      <td>209.000000</td>\n",
       "      <td>2021.000000</td>\n",
       "    </tr>\n",
       "  </tbody>\n",
       "</table>\n",
       "</div>"
      ],
      "text/plain": [
       "       imdb_score     runtime         year\n",
       "count  583.000000  583.000000   583.000000\n",
       "mean     6.275129   93.490566  2018.934820\n",
       "std      0.976678   27.706665     1.474598\n",
       "min      2.500000    4.000000  2014.000000\n",
       "25%      5.700000   86.000000  2018.000000\n",
       "50%      6.400000   97.000000  2019.000000\n",
       "75%      7.000000  107.500000  2020.000000\n",
       "max      9.000000  209.000000  2021.000000"
      ]
     },
     "execution_count": 13,
     "metadata": {},
     "output_type": "execute_result"
    }
   ],
   "source": [
    "# describes data in numerical form\n",
    "data= df.describe()\n",
    "data"
   ]
  },
  {
   "cell_type": "code",
   "execution_count": 18,
   "metadata": {},
   "outputs": [
    {
     "data": {
      "text/plain": [
       "(583, 7)"
      ]
     },
     "execution_count": 18,
     "metadata": {},
     "output_type": "execute_result"
    }
   ],
   "source": [
    "# gives num of rows and column\n",
    "shape =df.shape\n",
    "shape"
   ]
  },
  {
   "cell_type": "code",
   "execution_count": 22,
   "metadata": {},
   "outputs": [
    {
     "data": {
      "text/plain": [
       "title         Notes for My Son\n",
       "genre                    Drama\n",
       "language               Spanish\n",
       "imdb_score                 6.3\n",
       "premiere            11/24/2020\n",
       "runtime                     83\n",
       "year                      2020\n",
       "Name: 0, dtype: object"
      ]
     },
     "execution_count": 22,
     "metadata": {},
     "output_type": "execute_result"
    }
   ],
   "source": [
    "#gives info about specific row in verticle form\n",
    "iloc= df.iloc[0] # Selects the first row\n",
    "iloc"
   ]
  },
  {
   "cell_type": "code",
   "execution_count": 24,
   "metadata": {},
   "outputs": [
    {
     "data": {
      "text/plain": [
       "title         Notes for My Son\n",
       "genre                    Drama\n",
       "language               Spanish\n",
       "imdb_score                 6.3\n",
       "premiere            11/24/2020\n",
       "runtime                     83\n",
       "year                      2020\n",
       "Name: 0, dtype: object"
      ]
     },
     "execution_count": 24,
     "metadata": {},
     "output_type": "execute_result"
    }
   ],
   "source": [
    "# Selects the row with label 0\n",
    "loc= df.loc[0]\n",
    "loc"
   ]
  },
  {
   "cell_type": "code",
   "execution_count": 25,
   "metadata": {},
   "outputs": [
    {
     "data": {
      "text/html": [
       "<div>\n",
       "<style scoped>\n",
       "    .dataframe tbody tr th:only-of-type {\n",
       "        vertical-align: middle;\n",
       "    }\n",
       "\n",
       "    .dataframe tbody tr th {\n",
       "        vertical-align: top;\n",
       "    }\n",
       "\n",
       "    .dataframe thead th {\n",
       "        text-align: right;\n",
       "    }\n",
       "</style>\n",
       "<table border=\"1\" class=\"dataframe\">\n",
       "  <thead>\n",
       "    <tr style=\"text-align: right;\">\n",
       "      <th></th>\n",
       "      <th>title</th>\n",
       "      <th>genre</th>\n",
       "      <th>language</th>\n",
       "      <th>imdb_score</th>\n",
       "      <th>premiere</th>\n",
       "      <th>runtime</th>\n",
       "      <th>year</th>\n",
       "    </tr>\n",
       "  </thead>\n",
       "  <tbody>\n",
       "    <tr>\n",
       "      <th>0</th>\n",
       "      <td>Notes for My Son</td>\n",
       "      <td>Drama</td>\n",
       "      <td>Spanish</td>\n",
       "      <td>6.3</td>\n",
       "      <td>11/24/2020</td>\n",
       "      <td>83</td>\n",
       "      <td>2020</td>\n",
       "    </tr>\n",
       "    <tr>\n",
       "      <th>1</th>\n",
       "      <td>To Each, Her Own</td>\n",
       "      <td>Romantic comedy</td>\n",
       "      <td>French</td>\n",
       "      <td>5.3</td>\n",
       "      <td>6/24/2018</td>\n",
       "      <td>95</td>\n",
       "      <td>2018</td>\n",
       "    </tr>\n",
       "    <tr>\n",
       "      <th>2</th>\n",
       "      <td>The Lovebirds</td>\n",
       "      <td>Romantic comedy</td>\n",
       "      <td>English</td>\n",
       "      <td>6.1</td>\n",
       "      <td>5/22/2020</td>\n",
       "      <td>87</td>\n",
       "      <td>2020</td>\n",
       "    </tr>\n",
       "    <tr>\n",
       "      <th>3</th>\n",
       "      <td>The Perfection</td>\n",
       "      <td>Horror-thriller</td>\n",
       "      <td>English</td>\n",
       "      <td>6.1</td>\n",
       "      <td>5/24/2019</td>\n",
       "      <td>90</td>\n",
       "      <td>2019</td>\n",
       "    </tr>\n",
       "    <tr>\n",
       "      <th>4</th>\n",
       "      <td>Happy Anniversary</td>\n",
       "      <td>Romantic comedy</td>\n",
       "      <td>English</td>\n",
       "      <td>5.8</td>\n",
       "      <td>3/30/2018</td>\n",
       "      <td>78</td>\n",
       "      <td>2018</td>\n",
       "    </tr>\n",
       "    <tr>\n",
       "      <th>...</th>\n",
       "      <td>...</td>\n",
       "      <td>...</td>\n",
       "      <td>...</td>\n",
       "      <td>...</td>\n",
       "      <td>...</td>\n",
       "      <td>...</td>\n",
       "      <td>...</td>\n",
       "    </tr>\n",
       "    <tr>\n",
       "      <th>578</th>\n",
       "      <td>Rolling Thunder Revue: A bob Dylan Story by Ma...</td>\n",
       "      <td>Documentary</td>\n",
       "      <td>English</td>\n",
       "      <td>7.6</td>\n",
       "      <td>6/12/2019</td>\n",
       "      <td>144</td>\n",
       "      <td>2019</td>\n",
       "    </tr>\n",
       "    <tr>\n",
       "      <th>579</th>\n",
       "      <td>Freaks: You're One of Us</td>\n",
       "      <td>Supernatural drama</td>\n",
       "      <td>German</td>\n",
       "      <td>5.4</td>\n",
       "      <td>9/2/2020</td>\n",
       "      <td>92</td>\n",
       "      <td>2020</td>\n",
       "    </tr>\n",
       "    <tr>\n",
       "      <th>580</th>\n",
       "      <td>Squared Love</td>\n",
       "      <td>Romantic comedy</td>\n",
       "      <td>Polish</td>\n",
       "      <td>5.0</td>\n",
       "      <td>2/11/2021</td>\n",
       "      <td>102</td>\n",
       "      <td>2021</td>\n",
       "    </tr>\n",
       "    <tr>\n",
       "      <th>581</th>\n",
       "      <td>My Own Man</td>\n",
       "      <td>Documentary</td>\n",
       "      <td>English</td>\n",
       "      <td>6.4</td>\n",
       "      <td>12/13/2014</td>\n",
       "      <td>81</td>\n",
       "      <td>2014</td>\n",
       "    </tr>\n",
       "    <tr>\n",
       "      <th>582</th>\n",
       "      <td>Biggie: I Got a Story to Tell</td>\n",
       "      <td>Documentary</td>\n",
       "      <td>English</td>\n",
       "      <td>6.9</td>\n",
       "      <td>3/1/2021</td>\n",
       "      <td>97</td>\n",
       "      <td>2021</td>\n",
       "    </tr>\n",
       "  </tbody>\n",
       "</table>\n",
       "<p>583 rows × 7 columns</p>\n",
       "</div>"
      ],
      "text/plain": [
       "                                                 title               genre  \\\n",
       "0                                     Notes for My Son               Drama   \n",
       "1                                     To Each, Her Own     Romantic comedy   \n",
       "2                                        The Lovebirds     Romantic comedy   \n",
       "3                                       The Perfection     Horror-thriller   \n",
       "4                                    Happy Anniversary     Romantic comedy   \n",
       "..                                                 ...                 ...   \n",
       "578  Rolling Thunder Revue: A bob Dylan Story by Ma...         Documentary   \n",
       "579                           Freaks: You're One of Us  Supernatural drama   \n",
       "580                                       Squared Love     Romantic comedy   \n",
       "581                                         My Own Man         Documentary   \n",
       "582                      Biggie: I Got a Story to Tell         Documentary   \n",
       "\n",
       "    language  imdb_score    premiere  runtime  year  \n",
       "0    Spanish         6.3  11/24/2020       83  2020  \n",
       "1     French         5.3   6/24/2018       95  2018  \n",
       "2    English         6.1   5/22/2020       87  2020  \n",
       "3    English         6.1   5/24/2019       90  2019  \n",
       "4    English         5.8   3/30/2018       78  2018  \n",
       "..       ...         ...         ...      ...   ...  \n",
       "578  English         7.6   6/12/2019      144  2019  \n",
       "579   German         5.4    9/2/2020       92  2020  \n",
       "580   Polish         5.0   2/11/2021      102  2021  \n",
       "581  English         6.4  12/13/2014       81  2014  \n",
       "582  English         6.9    3/1/2021       97  2021  \n",
       "\n",
       "[583 rows x 7 columns]"
      ]
     },
     "execution_count": 25,
     "metadata": {},
     "output_type": "execute_result"
    }
   ],
   "source": [
    "# Drops rows with missing values from the DataFrame\n",
    "drop= df.dropna()\n",
    "drop"
   ]
  },
  {
   "cell_type": "code",
   "execution_count": 26,
   "metadata": {},
   "outputs": [
    {
     "data": {
      "text/html": [
       "<div>\n",
       "<style scoped>\n",
       "    .dataframe tbody tr th:only-of-type {\n",
       "        vertical-align: middle;\n",
       "    }\n",
       "\n",
       "    .dataframe tbody tr th {\n",
       "        vertical-align: top;\n",
       "    }\n",
       "\n",
       "    .dataframe thead th {\n",
       "        text-align: right;\n",
       "    }\n",
       "</style>\n",
       "<table border=\"1\" class=\"dataframe\">\n",
       "  <thead>\n",
       "    <tr style=\"text-align: right;\">\n",
       "      <th></th>\n",
       "      <th>title</th>\n",
       "      <th>genre</th>\n",
       "      <th>language</th>\n",
       "      <th>imdb_score</th>\n",
       "      <th>premiere</th>\n",
       "      <th>runtime</th>\n",
       "      <th>year</th>\n",
       "    </tr>\n",
       "  </thead>\n",
       "  <tbody>\n",
       "    <tr>\n",
       "      <th>0</th>\n",
       "      <td>Notes for My Son</td>\n",
       "      <td>Drama</td>\n",
       "      <td>Spanish</td>\n",
       "      <td>6.3</td>\n",
       "      <td>11/24/2020</td>\n",
       "      <td>83</td>\n",
       "      <td>2020</td>\n",
       "    </tr>\n",
       "    <tr>\n",
       "      <th>1</th>\n",
       "      <td>To Each, Her Own</td>\n",
       "      <td>Romantic comedy</td>\n",
       "      <td>French</td>\n",
       "      <td>5.3</td>\n",
       "      <td>6/24/2018</td>\n",
       "      <td>95</td>\n",
       "      <td>2018</td>\n",
       "    </tr>\n",
       "    <tr>\n",
       "      <th>2</th>\n",
       "      <td>The Lovebirds</td>\n",
       "      <td>Romantic comedy</td>\n",
       "      <td>English</td>\n",
       "      <td>6.1</td>\n",
       "      <td>5/22/2020</td>\n",
       "      <td>87</td>\n",
       "      <td>2020</td>\n",
       "    </tr>\n",
       "    <tr>\n",
       "      <th>3</th>\n",
       "      <td>The Perfection</td>\n",
       "      <td>Horror-thriller</td>\n",
       "      <td>English</td>\n",
       "      <td>6.1</td>\n",
       "      <td>5/24/2019</td>\n",
       "      <td>90</td>\n",
       "      <td>2019</td>\n",
       "    </tr>\n",
       "    <tr>\n",
       "      <th>4</th>\n",
       "      <td>Happy Anniversary</td>\n",
       "      <td>Romantic comedy</td>\n",
       "      <td>English</td>\n",
       "      <td>5.8</td>\n",
       "      <td>3/30/2018</td>\n",
       "      <td>78</td>\n",
       "      <td>2018</td>\n",
       "    </tr>\n",
       "    <tr>\n",
       "      <th>...</th>\n",
       "      <td>...</td>\n",
       "      <td>...</td>\n",
       "      <td>...</td>\n",
       "      <td>...</td>\n",
       "      <td>...</td>\n",
       "      <td>...</td>\n",
       "      <td>...</td>\n",
       "    </tr>\n",
       "    <tr>\n",
       "      <th>578</th>\n",
       "      <td>Rolling Thunder Revue: A bob Dylan Story by Ma...</td>\n",
       "      <td>Documentary</td>\n",
       "      <td>English</td>\n",
       "      <td>7.6</td>\n",
       "      <td>6/12/2019</td>\n",
       "      <td>144</td>\n",
       "      <td>2019</td>\n",
       "    </tr>\n",
       "    <tr>\n",
       "      <th>579</th>\n",
       "      <td>Freaks: You're One of Us</td>\n",
       "      <td>Supernatural drama</td>\n",
       "      <td>German</td>\n",
       "      <td>5.4</td>\n",
       "      <td>9/2/2020</td>\n",
       "      <td>92</td>\n",
       "      <td>2020</td>\n",
       "    </tr>\n",
       "    <tr>\n",
       "      <th>580</th>\n",
       "      <td>Squared Love</td>\n",
       "      <td>Romantic comedy</td>\n",
       "      <td>Polish</td>\n",
       "      <td>5.0</td>\n",
       "      <td>2/11/2021</td>\n",
       "      <td>102</td>\n",
       "      <td>2021</td>\n",
       "    </tr>\n",
       "    <tr>\n",
       "      <th>581</th>\n",
       "      <td>My Own Man</td>\n",
       "      <td>Documentary</td>\n",
       "      <td>English</td>\n",
       "      <td>6.4</td>\n",
       "      <td>12/13/2014</td>\n",
       "      <td>81</td>\n",
       "      <td>2014</td>\n",
       "    </tr>\n",
       "    <tr>\n",
       "      <th>582</th>\n",
       "      <td>Biggie: I Got a Story to Tell</td>\n",
       "      <td>Documentary</td>\n",
       "      <td>English</td>\n",
       "      <td>6.9</td>\n",
       "      <td>3/1/2021</td>\n",
       "      <td>97</td>\n",
       "      <td>2021</td>\n",
       "    </tr>\n",
       "  </tbody>\n",
       "</table>\n",
       "<p>583 rows × 7 columns</p>\n",
       "</div>"
      ],
      "text/plain": [
       "                                                 title               genre  \\\n",
       "0                                     Notes for My Son               Drama   \n",
       "1                                     To Each, Her Own     Romantic comedy   \n",
       "2                                        The Lovebirds     Romantic comedy   \n",
       "3                                       The Perfection     Horror-thriller   \n",
       "4                                    Happy Anniversary     Romantic comedy   \n",
       "..                                                 ...                 ...   \n",
       "578  Rolling Thunder Revue: A bob Dylan Story by Ma...         Documentary   \n",
       "579                           Freaks: You're One of Us  Supernatural drama   \n",
       "580                                       Squared Love     Romantic comedy   \n",
       "581                                         My Own Man         Documentary   \n",
       "582                      Biggie: I Got a Story to Tell         Documentary   \n",
       "\n",
       "    language  imdb_score    premiere  runtime  year  \n",
       "0    Spanish         6.3  11/24/2020       83  2020  \n",
       "1     French         5.3   6/24/2018       95  2018  \n",
       "2    English         6.1   5/22/2020       87  2020  \n",
       "3    English         6.1   5/24/2019       90  2019  \n",
       "4    English         5.8   3/30/2018       78  2018  \n",
       "..       ...         ...         ...      ...   ...  \n",
       "578  English         7.6   6/12/2019      144  2019  \n",
       "579   German         5.4    9/2/2020       92  2020  \n",
       "580   Polish         5.0   2/11/2021      102  2021  \n",
       "581  English         6.4  12/13/2014       81  2014  \n",
       "582  English         6.9    3/1/2021       97  2021  \n",
       "\n",
       "[583 rows x 7 columns]"
      ]
     },
     "execution_count": 26,
     "metadata": {},
     "output_type": "execute_result"
    }
   ],
   "source": [
    "#Fills missing values in the DataFrame with a specified value or method\n",
    "fillna=df.fillna(0)\n",
    "fillna\n"
   ]
  },
  {
   "cell_type": "code",
   "execution_count": 35,
   "metadata": {},
   "outputs": [
    {
     "data": {
      "text/plain": [
       "6.275128644939965"
      ]
     },
     "execution_count": 35,
     "metadata": {},
     "output_type": "execute_result"
    }
   ],
   "source": [
    "# to do oprations column by column\n",
    "groupby= df['imdb_score'].mean()\n",
    "groupby\n",
    "\n"
   ]
  },
  {
   "cell_type": "code",
   "execution_count": 38,
   "metadata": {},
   "outputs": [],
   "source": [
    "# gives pivot table\n",
    "#pivot = pd.pivot_table(df, values='0', index='6', columns='runtime\t')\n",
    "#pivot"
   ]
  },
  {
   "cell_type": "code",
   "execution_count": 40,
   "metadata": {},
   "outputs": [
    {
     "name": "stdout",
     "output_type": "stream",
     "text": [
      "None\n"
     ]
    }
   ],
   "source": [
    "#Writes the DataFrame to a CSV file.\n",
    "output= df.to_csv('output.csv', index=False)\n",
    "print(output)"
   ]
  },
  {
   "cell_type": "markdown",
   "metadata": {},
   "source": [
    "#new dataset"
   ]
  },
  {
   "cell_type": "code",
   "execution_count": 47,
   "metadata": {},
   "outputs": [
    {
     "name": "stdout",
     "output_type": "stream",
     "text": [
      "Region\n",
      "East     2200\n",
      "South    1700\n",
      "West     2600\n",
      "Name: Sales, dtype: int64\n"
     ]
    }
   ],
   "source": [
    "\n",
    "\n",
    "# Sample sales data\n",
    "data = {\n",
    "    'Region': ['East', 'West', 'East', 'South', 'West', 'South'],\n",
    "    'Product': ['A', 'B', 'A', 'C', 'B', 'A'],\n",
    "    'Sales': [1000, 1500, 1200, 800, 1100, 900]\n",
    "}\n",
    "\n",
    "# Create DataFrame\n",
    "df = pd.DataFrame(data)\n",
    "\n",
    "# Group by 'Region' and sum 'Sales' for each group\n",
    "sales_by_region = df.groupby('Region')['Sales'].sum()\n",
    "\n",
    "print(sales_by_region)\n"
   ]
  },
  {
   "cell_type": "code",
   "execution_count": 51,
   "metadata": {},
   "outputs": [
    {
     "data": {
      "text/html": [
       "<div>\n",
       "<style scoped>\n",
       "    .dataframe tbody tr th:only-of-type {\n",
       "        vertical-align: middle;\n",
       "    }\n",
       "\n",
       "    .dataframe tbody tr th {\n",
       "        vertical-align: top;\n",
       "    }\n",
       "\n",
       "    .dataframe thead th {\n",
       "        text-align: right;\n",
       "    }\n",
       "</style>\n",
       "<table border=\"1\" class=\"dataframe\">\n",
       "  <thead>\n",
       "    <tr style=\"text-align: right;\">\n",
       "      <th></th>\n",
       "      <th>Region</th>\n",
       "      <th>Product</th>\n",
       "      <th>Sales</th>\n",
       "    </tr>\n",
       "  </thead>\n",
       "  <tbody>\n",
       "    <tr>\n",
       "      <th>0</th>\n",
       "      <td>East</td>\n",
       "      <td>A</td>\n",
       "      <td>1000</td>\n",
       "    </tr>\n",
       "    <tr>\n",
       "      <th>1</th>\n",
       "      <td>West</td>\n",
       "      <td>B</td>\n",
       "      <td>1500</td>\n",
       "    </tr>\n",
       "  </tbody>\n",
       "</table>\n",
       "</div>"
      ],
      "text/plain": [
       "  Region Product  Sales\n",
       "0   East       A   1000\n",
       "1   West       B   1500"
      ]
     },
     "execution_count": 51,
     "metadata": {},
     "output_type": "execute_result"
    }
   ],
   "source": [
    "highest = df.head(2)\n",
    "highest"
   ]
  },
  {
   "cell_type": "code",
   "execution_count": 55,
   "metadata": {},
   "outputs": [
    {
     "data": {
      "text/html": [
       "<div>\n",
       "<style scoped>\n",
       "    .dataframe tbody tr th:only-of-type {\n",
       "        vertical-align: middle;\n",
       "    }\n",
       "\n",
       "    .dataframe tbody tr th {\n",
       "        vertical-align: top;\n",
       "    }\n",
       "\n",
       "    .dataframe thead th {\n",
       "        text-align: right;\n",
       "    }\n",
       "</style>\n",
       "<table border=\"1\" class=\"dataframe\">\n",
       "  <thead>\n",
       "    <tr style=\"text-align: right;\">\n",
       "      <th></th>\n",
       "      <th>Region</th>\n",
       "      <th>Product</th>\n",
       "      <th>Sales</th>\n",
       "    </tr>\n",
       "  </thead>\n",
       "  <tbody>\n",
       "    <tr>\n",
       "      <th>3</th>\n",
       "      <td>South</td>\n",
       "      <td>C</td>\n",
       "      <td>800</td>\n",
       "    </tr>\n",
       "    <tr>\n",
       "      <th>5</th>\n",
       "      <td>South</td>\n",
       "      <td>A</td>\n",
       "      <td>900</td>\n",
       "    </tr>\n",
       "    <tr>\n",
       "      <th>0</th>\n",
       "      <td>East</td>\n",
       "      <td>A</td>\n",
       "      <td>1000</td>\n",
       "    </tr>\n",
       "    <tr>\n",
       "      <th>4</th>\n",
       "      <td>West</td>\n",
       "      <td>B</td>\n",
       "      <td>1100</td>\n",
       "    </tr>\n",
       "    <tr>\n",
       "      <th>2</th>\n",
       "      <td>East</td>\n",
       "      <td>A</td>\n",
       "      <td>1200</td>\n",
       "    </tr>\n",
       "    <tr>\n",
       "      <th>1</th>\n",
       "      <td>West</td>\n",
       "      <td>B</td>\n",
       "      <td>1500</td>\n",
       "    </tr>\n",
       "  </tbody>\n",
       "</table>\n",
       "</div>"
      ],
      "text/plain": [
       "  Region Product  Sales\n",
       "3  South       C    800\n",
       "5  South       A    900\n",
       "0   East       A   1000\n",
       "4   West       B   1100\n",
       "2   East       A   1200\n",
       "1   West       B   1500"
      ]
     },
     "execution_count": 55,
     "metadata": {},
     "output_type": "execute_result"
    }
   ],
   "source": [
    "df_sorted = df.sort_values(by='Sales', ascending=True)\n",
    "df_sorted"
   ]
  },
  {
   "cell_type": "markdown",
   "metadata": {},
   "source": [
    "# extra\n"
   ]
  },
  {
   "cell_type": "code",
   "execution_count": 14,
   "metadata": {},
   "outputs": [
    {
     "name": "stdout",
     "output_type": "stream",
     "text": [
      "\n",
      "*\n",
      "**\n",
      "***\n",
      "****\n",
      "*****\n"
     ]
    }
   ],
   "source": [
    "a = '*'\n",
    "for i in range (6):\n",
    "    print(a*i)\n"
   ]
  },
  {
   "cell_type": "code",
   "execution_count": null,
   "metadata": {},
   "outputs": [],
   "source": []
  }
 ],
 "metadata": {
  "kernelspec": {
   "display_name": "Python 3",
   "language": "python",
   "name": "python3"
  },
  "language_info": {
   "codemirror_mode": {
    "name": "ipython",
    "version": 3
   },
   "file_extension": ".py",
   "mimetype": "text/x-python",
   "name": "python",
   "nbconvert_exporter": "python",
   "pygments_lexer": "ipython3",
   "version": "3.10.10"
  }
 },
 "nbformat": 4,
 "nbformat_minor": 2
}
