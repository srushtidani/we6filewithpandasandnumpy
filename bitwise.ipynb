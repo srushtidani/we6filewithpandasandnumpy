{
 "cells": [
  {
   "cell_type": "code",
   "execution_count": 2,
   "metadata": {},
   "outputs": [
    {
     "data": {
      "text/plain": [
       "1"
      ]
     },
     "execution_count": 2,
     "metadata": {},
     "output_type": "execute_result"
    }
   ],
   "source": [
    "#AND\n",
    "a=5 #0101\n",
    "b=3 #0011\n",
    "result= a&b #0001\n",
    "result"
   ]
  },
  {
   "cell_type": "code",
   "execution_count": 3,
   "metadata": {},
   "outputs": [
    {
     "data": {
      "text/plain": [
       "7"
      ]
     },
     "execution_count": 3,
     "metadata": {},
     "output_type": "execute_result"
    }
   ],
   "source": [
    "# OR\n",
    "a=5 #0101\n",
    "b=3 #0011\n",
    "result= a|b #0111\n",
    "result"
   ]
  },
  {
   "cell_type": "code",
   "execution_count": 4,
   "metadata": {},
   "outputs": [
    {
     "data": {
      "text/plain": [
       "6"
      ]
     },
     "execution_count": 4,
     "metadata": {},
     "output_type": "execute_result"
    }
   ],
   "source": [
    "# XOR\n",
    "a=5 #0101\n",
    "b=3 #0011\n",
    "result= a^b #0110\n",
    "result"
   ]
  },
  {
   "cell_type": "code",
   "execution_count": 5,
   "metadata": {},
   "outputs": [
    {
     "data": {
      "text/plain": [
       "40"
      ]
     },
     "execution_count": 5,
     "metadata": {},
     "output_type": "execute_result"
    }
   ],
   "source": [
    "# LEFT SHIFT\n",
    "a=5 #0101\n",
    "b=3 #0011\n",
    "result= a<<b #10\n",
    "result"
   ]
  },
  {
   "cell_type": "code",
   "execution_count": 6,
   "metadata": {},
   "outputs": [
    {
     "data": {
      "text/plain": [
       "0"
      ]
     },
     "execution_count": 6,
     "metadata": {},
     "output_type": "execute_result"
    }
   ],
   "source": [
    "# RIGHT SHIFT\n",
    "a=5 #0101\n",
    "b=3 #0011\n",
    "result= a>>b #2\n",
    "result"
   ]
  },
  {
   "cell_type": "code",
   "execution_count": 17,
   "metadata": {},
   "outputs": [
    {
     "name": "stdout",
     "output_type": "stream",
     "text": [
      "-6\n",
      "-4\n"
     ]
    }
   ],
   "source": [
    "# INVERSION\n",
    "a=5 #0101\n",
    "b=3\n",
    "result= ~a \n",
    "result2 = ~b\n",
    "print(result)\n",
    "print (result2)"
   ]
  },
  {
   "cell_type": "markdown",
   "metadata": {},
   "source": [
    "# SORTED\n"
   ]
  },
  {
   "cell_type": "code",
   "execution_count": 13,
   "metadata": {},
   "outputs": [
    {
     "name": "stdout",
     "output_type": "stream",
     "text": [
      "8\n",
      "11\n",
      "22\n",
      "66\n",
      "77\n",
      "92\n",
      "112\n",
      "123\n",
      "143\n",
      "547\n",
      "859\n",
      "876\n",
      "97239\n"
     ]
    }
   ],
   "source": [
    "num=[123,66,859,97239,77,92,876,143,112,11,22,8,547]\n",
    "sorted_num = sorted(num)\n",
    "sorted_num\n",
    "for i in sorted_num:\n",
    "    print(i)"
   ]
  },
  {
   "cell_type": "code",
   "execution_count": 15,
   "metadata": {},
   "outputs": [
    {
     "name": "stdout",
     "output_type": "stream",
     "text": [
      "[(1, 'a'), (1, 'b'), (3, 'c'), (4, 'd')]\n",
      "(1, 'a')\n",
      "(1, 'b')\n",
      "(3, 'c')\n",
      "(4, 'd')\n"
     ]
    }
   ],
   "source": [
    "tuple=[(3,'c'),(1,'a'),(4,'d'),(1,'b')]\n",
    "sorted_tuple= sorted(tuple)\n",
    "\n",
    "print(sorted_tuple)\n",
    "\n",
    "for a in sorted_tuple:\n",
    "    print(a)"
   ]
  },
  {
   "cell_type": "code",
   "execution_count": 25,
   "metadata": {},
   "outputs": [],
   "source": [
    "def say():\n",
    "    greeting ='hello'\n",
    "    def display():\n",
    "        print(greeting)\n",
    "    return display\n",
    "    "
   ]
  },
  {
   "cell_type": "code",
   "execution_count": 27,
   "metadata": {},
   "outputs": [
    {
     "name": "stdout",
     "output_type": "stream",
     "text": [
      "15\n"
     ]
    }
   ],
   "source": [
    "def outer_function(x):\n",
    "\n",
    "    def inner_function(y):\n",
    "\n",
    "        return x + y\n",
    "\n",
    "    return inner_function\n",
    "\n",
    "\n",
    "closure = outer_function(10)\n",
    "\n",
    "result = closure(5)\n",
    "\n",
    "print(result)"
   ]
  },
  {
   "cell_type": "code",
   "execution_count": null,
   "metadata": {},
   "outputs": [],
   "source": []
  }
 ],
 "metadata": {
  "kernelspec": {
   "display_name": "Python 3",
   "language": "python",
   "name": "python3"
  },
  "language_info": {
   "codemirror_mode": {
    "name": "ipython",
    "version": 3
   },
   "file_extension": ".py",
   "mimetype": "text/x-python",
   "name": "python",
   "nbconvert_exporter": "python",
   "pygments_lexer": "ipython3",
   "version": "3.10.10"
  }
 },
 "nbformat": 4,
 "nbformat_minor": 2
}
